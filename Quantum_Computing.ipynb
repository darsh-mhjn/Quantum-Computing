{
  "nbformat": 4,
  "nbformat_minor": 0,
  "metadata": {
    "colab": {
      "provenance": [],
      "collapsed_sections": [
        "jFf6UEmkwsgO",
        "dnDE8ngAwDgz"
      ],
      "authorship_tag": "ABX9TyPWKWJ7RXtszgKa9z0OIaRG",
      "include_colab_link": true
    },
    "kernelspec": {
      "name": "python3",
      "display_name": "Python 3"
    },
    "language_info": {
      "name": "python"
    }
  },
  "cells": [
    {
      "cell_type": "markdown",
      "metadata": {
        "id": "view-in-github",
        "colab_type": "text"
      },
      "source": [
        "<a href=\"https://colab.research.google.com/github/darsh-mhjn/Quantum-Computing/blob/main/Quantum_Computing.ipynb\" target=\"_parent\"><img src=\"https://colab.research.google.com/assets/colab-badge.svg\" alt=\"Open In Colab\"/></a>"
      ]
    },
    {
      "cell_type": "markdown",
      "source": [
        "#Quantum Computing ( CS621 )\n"
      ],
      "metadata": {
        "id": "27G2JU96vq-J"
      }
    },
    {
      "cell_type": "markdown",
      "source": [
        "**Darsh Mahajan | दर्श महाजन ( 12240500 )**\n",
        "\n",
        "**Computer Science and Engineering - Student (B.Tech '22)**\n",
        "\n",
        "**Indian Institute of Technology Bhilai**"
      ],
      "metadata": {
        "id": "E3M57Mtzci_L"
      }
    },
    {
      "cell_type": "markdown",
      "source": [
        "##Requirements"
      ],
      "metadata": {
        "id": "MPWqJiyacRcB"
      }
    },
    {
      "cell_type": "markdown",
      "source": [
        "###Installing libraries"
      ],
      "metadata": {
        "id": "Qfxns6M6cYgJ"
      }
    },
    {
      "cell_type": "code",
      "source": [
        "!pip install qiskit\n",
        "!pip install qiskit_aer"
      ],
      "metadata": {
        "colab": {
          "base_uri": "https://localhost:8080/"
        },
        "id": "KiBSDLIhvuDs",
        "outputId": "6d7dbf99-e6ff-45af-ea1f-b2cc59db83c5"
      },
      "execution_count": null,
      "outputs": [
        {
          "output_type": "stream",
          "name": "stdout",
          "text": [
            "Collecting qiskit\n",
            "  Downloading qiskit-1.3.2-cp39-abi3-manylinux_2_17_x86_64.manylinux2014_x86_64.whl.metadata (12 kB)\n",
            "Collecting rustworkx>=0.15.0 (from qiskit)\n",
            "  Downloading rustworkx-0.16.0-cp39-abi3-manylinux_2_17_x86_64.manylinux2014_x86_64.whl.metadata (10 kB)\n",
            "Requirement already satisfied: numpy<3,>=1.17 in /usr/local/lib/python3.11/dist-packages (from qiskit) (1.26.4)\n",
            "Requirement already satisfied: scipy>=1.5 in /usr/local/lib/python3.11/dist-packages (from qiskit) (1.13.1)\n",
            "Requirement already satisfied: sympy>=1.3 in /usr/local/lib/python3.11/dist-packages (from qiskit) (1.13.1)\n",
            "Collecting dill>=0.3 (from qiskit)\n",
            "  Downloading dill-0.3.9-py3-none-any.whl.metadata (10 kB)\n",
            "Requirement already satisfied: python-dateutil>=2.8.0 in /usr/local/lib/python3.11/dist-packages (from qiskit) (2.8.2)\n",
            "Collecting stevedore>=3.0.0 (from qiskit)\n",
            "  Downloading stevedore-5.4.0-py3-none-any.whl.metadata (2.3 kB)\n",
            "Requirement already satisfied: typing-extensions in /usr/local/lib/python3.11/dist-packages (from qiskit) (4.12.2)\n",
            "Collecting symengine<0.14,>=0.11 (from qiskit)\n",
            "  Downloading symengine-0.13.0-cp311-cp311-manylinux_2_17_x86_64.manylinux2014_x86_64.whl.metadata (1.2 kB)\n",
            "Requirement already satisfied: six>=1.5 in /usr/local/lib/python3.11/dist-packages (from python-dateutil>=2.8.0->qiskit) (1.17.0)\n",
            "Collecting pbr>=2.0.0 (from stevedore>=3.0.0->qiskit)\n",
            "  Downloading pbr-6.1.0-py2.py3-none-any.whl.metadata (3.4 kB)\n",
            "Requirement already satisfied: mpmath<1.4,>=1.1.0 in /usr/local/lib/python3.11/dist-packages (from sympy>=1.3->qiskit) (1.3.0)\n",
            "Downloading qiskit-1.3.2-cp39-abi3-manylinux_2_17_x86_64.manylinux2014_x86_64.whl (6.8 MB)\n",
            "\u001b[2K   \u001b[90m━━━━━━━━━━━━━━━━━━━━━━━━━━━━━━━━━━━━━━━━\u001b[0m \u001b[32m6.8/6.8 MB\u001b[0m \u001b[31m27.7 MB/s\u001b[0m eta \u001b[36m0:00:00\u001b[0m\n",
            "\u001b[?25hDownloading dill-0.3.9-py3-none-any.whl (119 kB)\n",
            "\u001b[2K   \u001b[90m━━━━━━━━━━━━━━━━━━━━━━━━━━━━━━━━━━━━━━━━\u001b[0m \u001b[32m119.4/119.4 kB\u001b[0m \u001b[31m7.4 MB/s\u001b[0m eta \u001b[36m0:00:00\u001b[0m\n",
            "\u001b[?25hDownloading rustworkx-0.16.0-cp39-abi3-manylinux_2_17_x86_64.manylinux2014_x86_64.whl (2.1 MB)\n",
            "\u001b[2K   \u001b[90m━━━━━━━━━━━━━━━━━━━━━━━━━━━━━━━━━━━━━━━━\u001b[0m \u001b[32m2.1/2.1 MB\u001b[0m \u001b[31m28.0 MB/s\u001b[0m eta \u001b[36m0:00:00\u001b[0m\n",
            "\u001b[?25hDownloading stevedore-5.4.0-py3-none-any.whl (49 kB)\n",
            "\u001b[2K   \u001b[90m━━━━━━━━━━━━━━━━━━━━━━━━━━━━━━━━━━━━━━━━\u001b[0m \u001b[32m49.5/49.5 kB\u001b[0m \u001b[31m2.9 MB/s\u001b[0m eta \u001b[36m0:00:00\u001b[0m\n",
            "\u001b[?25hDownloading symengine-0.13.0-cp311-cp311-manylinux_2_17_x86_64.manylinux2014_x86_64.whl (49.7 MB)\n",
            "\u001b[2K   \u001b[90m━━━━━━━━━━━━━━━━━━━━━━━━━━━━━━━━━━━━━━━━\u001b[0m \u001b[32m49.7/49.7 MB\u001b[0m \u001b[31m11.1 MB/s\u001b[0m eta \u001b[36m0:00:00\u001b[0m\n",
            "\u001b[?25hDownloading pbr-6.1.0-py2.py3-none-any.whl (108 kB)\n",
            "\u001b[2K   \u001b[90m━━━━━━━━━━━━━━━━━━━━━━━━━━━━━━━━━━━━━━━━\u001b[0m \u001b[32m108.5/108.5 kB\u001b[0m \u001b[31m6.3 MB/s\u001b[0m eta \u001b[36m0:00:00\u001b[0m\n",
            "\u001b[?25hInstalling collected packages: symengine, rustworkx, pbr, dill, stevedore, qiskit\n",
            "Successfully installed dill-0.3.9 pbr-6.1.0 qiskit-1.3.2 rustworkx-0.16.0 stevedore-5.4.0 symengine-0.13.0\n",
            "Collecting qiskit_aer\n",
            "  Downloading qiskit_aer-0.16.0-cp311-cp311-manylinux_2_17_x86_64.manylinux2014_x86_64.whl.metadata (8.2 kB)\n",
            "Requirement already satisfied: qiskit>=1.1.0 in /usr/local/lib/python3.11/dist-packages (from qiskit_aer) (1.3.2)\n",
            "Requirement already satisfied: numpy>=1.16.3 in /usr/local/lib/python3.11/dist-packages (from qiskit_aer) (1.26.4)\n",
            "Requirement already satisfied: scipy>=1.0 in /usr/local/lib/python3.11/dist-packages (from qiskit_aer) (1.13.1)\n",
            "Requirement already satisfied: psutil>=5 in /usr/local/lib/python3.11/dist-packages (from qiskit_aer) (5.9.5)\n",
            "Requirement already satisfied: rustworkx>=0.15.0 in /usr/local/lib/python3.11/dist-packages (from qiskit>=1.1.0->qiskit_aer) (0.16.0)\n",
            "Requirement already satisfied: sympy>=1.3 in /usr/local/lib/python3.11/dist-packages (from qiskit>=1.1.0->qiskit_aer) (1.13.1)\n",
            "Requirement already satisfied: dill>=0.3 in /usr/local/lib/python3.11/dist-packages (from qiskit>=1.1.0->qiskit_aer) (0.3.9)\n",
            "Requirement already satisfied: python-dateutil>=2.8.0 in /usr/local/lib/python3.11/dist-packages (from qiskit>=1.1.0->qiskit_aer) (2.8.2)\n",
            "Requirement already satisfied: stevedore>=3.0.0 in /usr/local/lib/python3.11/dist-packages (from qiskit>=1.1.0->qiskit_aer) (5.4.0)\n",
            "Requirement already satisfied: typing-extensions in /usr/local/lib/python3.11/dist-packages (from qiskit>=1.1.0->qiskit_aer) (4.12.2)\n",
            "Requirement already satisfied: symengine<0.14,>=0.11 in /usr/local/lib/python3.11/dist-packages (from qiskit>=1.1.0->qiskit_aer) (0.13.0)\n",
            "Requirement already satisfied: six>=1.5 in /usr/local/lib/python3.11/dist-packages (from python-dateutil>=2.8.0->qiskit>=1.1.0->qiskit_aer) (1.17.0)\n",
            "Requirement already satisfied: pbr>=2.0.0 in /usr/local/lib/python3.11/dist-packages (from stevedore>=3.0.0->qiskit>=1.1.0->qiskit_aer) (6.1.0)\n",
            "Requirement already satisfied: mpmath<1.4,>=1.1.0 in /usr/local/lib/python3.11/dist-packages (from sympy>=1.3->qiskit>=1.1.0->qiskit_aer) (1.3.0)\n",
            "Downloading qiskit_aer-0.16.0-cp311-cp311-manylinux_2_17_x86_64.manylinux2014_x86_64.whl (12.4 MB)\n",
            "\u001b[2K   \u001b[90m━━━━━━━━━━━━━━━━━━━━━━━━━━━━━━━━━━━━━━━━\u001b[0m \u001b[32m12.4/12.4 MB\u001b[0m \u001b[31m30.3 MB/s\u001b[0m eta \u001b[36m0:00:00\u001b[0m\n",
            "\u001b[?25hInstalling collected packages: qiskit_aer\n",
            "Successfully installed qiskit_aer-0.16.0\n"
          ]
        }
      ]
    },
    {
      "cell_type": "markdown",
      "source": [
        "###Importing From Libraries"
      ],
      "metadata": {
        "id": "YFkD6Y1EcerC"
      }
    },
    {
      "cell_type": "code",
      "source": [
        "from qiskit import QuantumRegister, ClassicalRegister, QuantumCircuit, assemble, transpile\n",
        "from qiskit_aer import AerSimulator\n",
        "from qiskit.quantum_info import Statevector"
      ],
      "metadata": {
        "id": "zl9K_JBZR-WG"
      },
      "execution_count": null,
      "outputs": []
    },
    {
      "cell_type": "markdown",
      "source": [
        "##**LAB 1** (17/01/2025)"
      ],
      "metadata": {
        "id": "jFf6UEmkwsgO"
      }
    },
    {
      "cell_type": "markdown",
      "source": [
        "###1. Create a 1-qubit system (Quantum Circuit with Quantum and Classical Registers of size 1 each)."
      ],
      "metadata": {
        "id": "sKf7pxqfwoo2"
      }
    },
    {
      "cell_type": "code",
      "source": [
        "q = QuantumRegister(1)\n",
        "c = ClassicalRegister(1)\n",
        "qc = QuantumCircuit(q,c)\n",
        "\n",
        "print(Statevector(qc))\n",
        "print(\"\\n\")\n",
        "qc.measure(q,c)\n",
        "print(qc.draw())"
      ],
      "metadata": {
        "colab": {
          "base_uri": "https://localhost:8080/"
        },
        "id": "X96yCo6DwY-V",
        "outputId": "76b937b4-773c-4f05-f99f-93cabca299e5"
      },
      "execution_count": null,
      "outputs": [
        {
          "output_type": "stream",
          "name": "stdout",
          "text": [
            "Statevector([1.+0.j, 0.+0.j],\n",
            "            dims=(2,))\n",
            "\n",
            "\n",
            "      ┌─┐\n",
            "  q1: ┤M├\n",
            "      └╥┘\n",
            "c0: 1/═╩═\n",
            "       0 \n"
          ]
        }
      ]
    },
    {
      "cell_type": "markdown",
      "source": [
        "###2. Create a 1-qubit system and apply the NOT gate and the Hadamard gate."
      ],
      "metadata": {
        "id": "UCr1HszywvXK"
      }
    },
    {
      "cell_type": "code",
      "source": [
        "q = QuantumRegister(1)\n",
        "c = ClassicalRegister(1)\n",
        "qc = QuantumCircuit(q,c)\n",
        "\n",
        "qc.x(q)\n",
        "qc.h(q)\n",
        "\n",
        "print(Statevector(qc))\n",
        "print(\"\\n\")\n",
        "\n",
        "qc.measure(q,c)\n",
        "print(qc.draw())"
      ],
      "metadata": {
        "colab": {
          "base_uri": "https://localhost:8080/"
        },
        "id": "DN7CFa9Bwy-Y",
        "outputId": "6efd158d-1552-4b45-a1f3-796e5de0f42b"
      },
      "execution_count": null,
      "outputs": [
        {
          "output_type": "stream",
          "name": "stdout",
          "text": [
            "Statevector([ 0.70710678+0.j, -0.70710678+0.j],\n",
            "            dims=(2,))\n",
            "\n",
            "\n",
            "      ┌───┐┌───┐┌─┐\n",
            "  q2: ┤ X ├┤ H ├┤M├\n",
            "      └───┘└───┘└╥┘\n",
            "c1: 1/═══════════╩═\n",
            "                 0 \n"
          ]
        }
      ]
    },
    {
      "cell_type": "markdown",
      "source": [
        "###3. Create a 1-qubit system and apply the Hadamard gate twice."
      ],
      "metadata": {
        "id": "y81omZx5SW7L"
      }
    },
    {
      "cell_type": "code",
      "source": [
        "q = QuantumRegister(1)\n",
        "c = ClassicalRegister(1)\n",
        "qc = QuantumCircuit(q,c)\n",
        "print(Statevector(qc))\n",
        "print(\"\\n\")\n",
        "qc.h(q)\n",
        "print(Statevector(qc))\n",
        "print(\"\\n\")\n",
        "qc.h(q)\n",
        "print(Statevector(qc))\n",
        "print(\"\\n\")\n",
        "qc.measure(q,c)\n",
        "print(qc.draw())"
      ],
      "metadata": {
        "colab": {
          "base_uri": "https://localhost:8080/"
        },
        "id": "f5tYgca_TneU",
        "outputId": "61313114-9ea2-4b19-9d0f-b9167c2e8edf"
      },
      "execution_count": null,
      "outputs": [
        {
          "output_type": "stream",
          "name": "stdout",
          "text": [
            "Statevector([1.+0.j, 0.+0.j],\n",
            "            dims=(2,))\n",
            "\n",
            "\n",
            "Statevector([0.70710678+0.j, 0.70710678+0.j],\n",
            "            dims=(2,))\n",
            "\n",
            "\n",
            "Statevector([1.+0.j, 0.+0.j],\n",
            "            dims=(2,))\n",
            "\n",
            "\n",
            "      ┌───┐┌───┐┌─┐\n",
            "  q3: ┤ H ├┤ H ├┤M├\n",
            "      └───┘└───┘└╥┘\n",
            "c2: 1/═══════════╩═\n",
            "                 0 \n"
          ]
        }
      ]
    },
    {
      "cell_type": "markdown",
      "source": [
        "###4. Create a 2-qubit system and apply the NOT gate to the first (top) qubit andthe Hadamard gate to the second (bottom) qubit."
      ],
      "metadata": {
        "id": "lb6Mf0XuSYa_"
      }
    },
    {
      "cell_type": "code",
      "source": [
        "q = QuantumRegister(2)\n",
        "c = ClassicalRegister(2)\n",
        "qc = QuantumCircuit(q,c)\n",
        "\n",
        "print(Statevector(qc))\n",
        "print(\"\\n\")\n",
        "\n",
        "qc.x(q[0])\n",
        "qc.h(q[1])\n",
        "\n",
        "print(Statevector(qc))\n",
        "print(\"\\n\")\n",
        "\n",
        "qc.measure(q[0],c[0])\n",
        "qc.measure(q[1],c[1])\n",
        "print(qc.draw())"
      ],
      "metadata": {
        "colab": {
          "base_uri": "https://localhost:8080/"
        },
        "id": "iABI3w3lTqj8",
        "outputId": "76de2299-4710-43b8-9334-72bb253ee230"
      },
      "execution_count": null,
      "outputs": [
        {
          "output_type": "stream",
          "name": "stdout",
          "text": [
            "Statevector([1.+0.j, 0.+0.j, 0.+0.j, 0.+0.j],\n",
            "            dims=(2, 2))\n",
            "\n",
            "\n",
            "Statevector([0.        +0.j, 0.70710678+0.j, 0.        +0.j,\n",
            "             0.70710678+0.j],\n",
            "            dims=(2, 2))\n",
            "\n",
            "\n",
            "      ┌───┐┌─┐   \n",
            "q4_0: ┤ X ├┤M├───\n",
            "      ├───┤└╥┘┌─┐\n",
            "q4_1: ┤ H ├─╫─┤M├\n",
            "      └───┘ ║ └╥┘\n",
            "c3: 2/══════╩══╩═\n",
            "            0  1 \n"
          ]
        }
      ]
    },
    {
      "cell_type": "markdown",
      "source": [
        "###5. Create a 2-qubit system and apply the NOT gate to the second (bottom) qubit and the Hadamard gate to the first (top) qubit."
      ],
      "metadata": {
        "id": "1KgPUI0YSeSq"
      }
    },
    {
      "cell_type": "code",
      "source": [
        "q = QuantumRegister(2)\n",
        "c = ClassicalRegister(2)\n",
        "qc = QuantumCircuit(q,c)\n",
        "\n",
        "print(Statevector(qc))\n",
        "print(\"\\n\")\n",
        "\n",
        "qc.h(q[0])\n",
        "qc.x(q[1])\n",
        "\n",
        "print(Statevector(qc))\n",
        "print(\"\\n\")\n",
        "\n",
        "qc.measure(q[0],c[0])\n",
        "qc.measure(q[1],c[1])\n",
        "print(qc.draw())"
      ],
      "metadata": {
        "colab": {
          "base_uri": "https://localhost:8080/"
        },
        "id": "SD-u0W8nTxTa",
        "outputId": "0837a1fc-4e2d-48c8-f499-7cde6caaafe9"
      },
      "execution_count": null,
      "outputs": [
        {
          "output_type": "stream",
          "name": "stdout",
          "text": [
            "Statevector([1.+0.j, 0.+0.j, 0.+0.j, 0.+0.j],\n",
            "            dims=(2, 2))\n",
            "\n",
            "\n",
            "Statevector([0.        +0.j, 0.        +0.j, 0.70710678+0.j,\n",
            "             0.70710678+0.j],\n",
            "            dims=(2, 2))\n",
            "\n",
            "\n",
            "      ┌───┐┌─┐   \n",
            "q5_0: ┤ H ├┤M├───\n",
            "      ├───┤└╥┘┌─┐\n",
            "q5_1: ┤ X ├─╫─┤M├\n",
            "      └───┘ ║ └╥┘\n",
            "c4: 2/══════╩══╩═\n",
            "            0  1 \n"
          ]
        }
      ]
    },
    {
      "cell_type": "markdown",
      "source": [
        "###6. Create a 2-qubit system and apply the Hadamard gate to both the qubits."
      ],
      "metadata": {
        "id": "PSG9aZs0SzuS"
      }
    },
    {
      "cell_type": "code",
      "source": [
        "q = QuantumRegister(2)\n",
        "c = ClassicalRegister(2)\n",
        "qc = QuantumCircuit(q,c)\n",
        "\n",
        "print(Statevector(qc))\n",
        "print(\"\\n\")\n",
        "\n",
        "qc.h(q[0])\n",
        "qc.h(q[1])\n",
        "\n",
        "print(Statevector(qc))\n",
        "print(\"\\n\")\n",
        "\n",
        "qc.measure(q[0],c[0])\n",
        "qc.measure(q[1],c[1])\n",
        "print(qc.draw())"
      ],
      "metadata": {
        "colab": {
          "base_uri": "https://localhost:8080/"
        },
        "id": "j_og4k-dT77O",
        "outputId": "3e3086a2-bab4-45d2-9ec2-c3da4892247c"
      },
      "execution_count": null,
      "outputs": [
        {
          "output_type": "stream",
          "name": "stdout",
          "text": [
            "Statevector([1.+0.j, 0.+0.j, 0.+0.j, 0.+0.j],\n",
            "            dims=(2, 2))\n",
            "\n",
            "\n",
            "Statevector([0.5+0.j, 0.5+0.j, 0.5+0.j, 0.5+0.j],\n",
            "            dims=(2, 2))\n",
            "\n",
            "\n",
            "      ┌───┐┌─┐   \n",
            "q6_0: ┤ H ├┤M├───\n",
            "      ├───┤└╥┘┌─┐\n",
            "q6_1: ┤ H ├─╫─┤M├\n",
            "      └───┘ ║ └╥┘\n",
            "c5: 2/══════╩══╩═\n",
            "            0  1 \n"
          ]
        }
      ]
    },
    {
      "cell_type": "markdown",
      "source": [
        "###7. Create a 2-qubit system and first apply the NOT gate on the first (top) qubit. Then, apply the Hadamard gate to both the qubits. You should show how you can clearly distinguish these steps in the circuit diagram by using a barrier."
      ],
      "metadata": {
        "id": "MQ2dYMIzS8r5"
      }
    },
    {
      "cell_type": "code",
      "source": [
        "q = QuantumRegister(2)\n",
        "c = ClassicalRegister(2)\n",
        "qc = QuantumCircuit(q,c)\n",
        "\n",
        "print(Statevector(qc))\n",
        "print(\"\\n\")\n",
        "\n",
        "qc.x(q[0])\n",
        "\n",
        "qc.barrier()\n",
        "\n",
        "qc.h(q[0])\n",
        "qc.h(q[1])\n",
        "\n",
        "print(Statevector(qc))\n",
        "print(\"\\n\")\n",
        "\n",
        "qc.measure(q[0],c[0])\n",
        "qc.measure(q[1],c[1])\n",
        "print(qc.draw())"
      ],
      "metadata": {
        "colab": {
          "base_uri": "https://localhost:8080/"
        },
        "id": "CF_nznJ-UA1V",
        "outputId": "8b9c279c-4484-4b6f-e367-a873a883125e"
      },
      "execution_count": null,
      "outputs": [
        {
          "output_type": "stream",
          "name": "stdout",
          "text": [
            "Statevector([1.+0.j, 0.+0.j, 0.+0.j, 0.+0.j],\n",
            "            dims=(2, 2))\n",
            "\n",
            "\n",
            "Statevector([ 0.5+0.j, -0.5+0.j,  0.5+0.j, -0.5+0.j],\n",
            "            dims=(2, 2))\n",
            "\n",
            "\n",
            "      ┌───┐ ░ ┌───┐┌─┐   \n",
            "q7_0: ┤ X ├─░─┤ H ├┤M├───\n",
            "      └───┘ ░ ├───┤└╥┘┌─┐\n",
            "q7_1: ──────░─┤ H ├─╫─┤M├\n",
            "            ░ └───┘ ║ └╥┘\n",
            "c6: 2/══════════════╩══╩═\n",
            "                    0  1 \n"
          ]
        }
      ]
    },
    {
      "cell_type": "markdown",
      "source": [
        "##Lab 2 (24/01/2025)"
      ],
      "metadata": {
        "id": "dnDE8ngAwDgz"
      }
    },
    {
      "cell_type": "markdown",
      "source": [
        "###Encrypt last 2nd bit of your id number **(if it is 0 then consider 13)**"
      ],
      "metadata": {
        "id": "abMbOD9NY8Ga"
      }
    },
    {
      "cell_type": "code",
      "source": [
        "from qiskit import ClassicalRegister, QuantumRegister, QuantumCircuit, assemble\n",
        "from qiskit_aer import Aer\n",
        "from qiskit.quantum_info import Statevector\n",
        "import numpy as np\n",
        "import math as m\n",
        "\n",
        "q=QuantumRegister(4)\n",
        "c=ClassicalRegister(4)\n",
        "qc=QuantumCircuit(q,c)\n",
        "\n",
        "#12240500 is the roll number so I will enccode 13 in the qubits; 1101\n",
        "\n",
        "qc.x(q[0])\n",
        "qc.x(q[1])\n",
        "qc.x(q[3])\n",
        "\n",
        "print(Statevector(qc))\n",
        "print(\"\\n\")\n",
        "qc.measure(q,c)\n",
        "print(qc.draw())"
      ],
      "metadata": {
        "colab": {
          "base_uri": "https://localhost:8080/"
        },
        "id": "jJEoIG8eY17h",
        "outputId": "a32c9250-ed3b-4032-f4ca-71a7ac0727a3"
      },
      "execution_count": null,
      "outputs": [
        {
          "output_type": "stream",
          "name": "stdout",
          "text": [
            "Statevector([0.+0.j, 0.+0.j, 0.+0.j, 0.+0.j, 0.+0.j, 0.+0.j, 0.+0.j,\n",
            "             0.+0.j, 0.+0.j, 0.+0.j, 0.+0.j, 1.+0.j, 0.+0.j, 0.+0.j,\n",
            "             0.+0.j, 0.+0.j],\n",
            "            dims=(2, 2, 2, 2))\n",
            "\n",
            "\n",
            "      ┌───┐   ┌─┐      \n",
            "q8_0: ┤ X ├───┤M├──────\n",
            "      ├───┤   └╥┘┌─┐   \n",
            "q8_1: ┤ X ├────╫─┤M├───\n",
            "      └───┘┌─┐ ║ └╥┘   \n",
            "q8_2: ─────┤M├─╫──╫────\n",
            "      ┌───┐└╥┘ ║  ║ ┌─┐\n",
            "q8_3: ┤ X ├─╫──╫──╫─┤M├\n",
            "      └───┘ ║  ║  ║ └╥┘\n",
            "c7: 4/══════╩══╩══╩══╩═\n",
            "            2  0  1  3 \n"
          ]
        }
      ]
    },
    {
      "cell_type": "markdown",
      "source": [
        "###2. Our qiskit function"
      ],
      "metadata": {
        "id": "TYmS2cv3U6pw"
      }
    },
    {
      "cell_type": "code",
      "source": [
        "def waveform(qc):\n",
        "    state = Statevector(qc)\n",
        "    amplitudes = state.data\n",
        "    num_qubits = state.num_qubits\n",
        "\n",
        "    print(\"Non-zero amplitudes in the statevector:\")\n",
        "    for i, amplitude in enumerate(amplitudes):\n",
        "        if abs(amplitude) > 0:\n",
        "            print(f\"|{i:0{num_qubits}b}>: {amplitude}\")"
      ],
      "metadata": {
        "id": "95Tq210mU4iY"
      },
      "execution_count": null,
      "outputs": []
    },
    {
      "cell_type": "markdown",
      "source": [
        "###**3**. Give only non zero vector as output"
      ],
      "metadata": {
        "id": "Xto4nhEmUIvM"
      }
    },
    {
      "cell_type": "code",
      "execution_count": null,
      "metadata": {
        "colab": {
          "base_uri": "https://localhost:8080/"
        },
        "id": "AyQWWClmvhq2",
        "outputId": "9082994c-8f13-4dbc-b2e7-6346a203a3a0"
      },
      "outputs": [
        {
          "output_type": "stream",
          "name": "stdout",
          "text": [
            "Non-zero amplitudes in the statevector:\n",
            "|1011>: (1+0j)\n",
            "\n",
            "\n",
            "      ┌───┐   ┌─┐      \n",
            "q9_0: ┤ X ├───┤M├──────\n",
            "      ├───┤   └╥┘┌─┐   \n",
            "q9_1: ┤ X ├────╫─┤M├───\n",
            "      └───┘┌─┐ ║ └╥┘   \n",
            "q9_2: ─────┤M├─╫──╫────\n",
            "      ┌───┐└╥┘ ║  ║ ┌─┐\n",
            "q9_3: ┤ X ├─╫──╫──╫─┤M├\n",
            "      └───┘ ║  ║  ║ └╥┘\n",
            "c8: 4/══════╩══╩══╩══╩═\n",
            "            2  0  1  3 \n"
          ]
        }
      ],
      "source": [
        "from qiskit import ClassicalRegister, QuantumRegister, QuantumCircuit\n",
        "from qiskit.quantum_info import Statevector\n",
        "import numpy as np\n",
        "\n",
        "q = QuantumRegister(4)\n",
        "c = ClassicalRegister(4)\n",
        "qc = QuantumCircuit(q, c)\n",
        "\n",
        "# My ID is 12240500 so I am  Encoding 13 (1101 in binary)\n",
        "qc.x(q[0])\n",
        "qc.x(q[1])\n",
        "qc.x(q[3])\n",
        "\n",
        "waveform(qc)\n",
        "print(\"\\n\")\n",
        "qc.measure(q, c)\n",
        "print(qc.draw())"
      ]
    },
    {
      "cell_type": "markdown",
      "source": [
        "###4. Generalised version"
      ],
      "metadata": {
        "id": "HMfB4LZ4XvzR"
      }
    },
    {
      "cell_type": "code",
      "source": [
        "user_input = input(\"Enter a binary string: \")\n",
        "print(f\"You entered: {user_input}\")\n",
        "print(\"\\n\")\n",
        "\n",
        "leng = len(user_input)\n",
        "q = QuantumRegister(leng)\n",
        "c = ClassicalRegister(leng)\n",
        "qc = QuantumCircuit(q, c)\n",
        "\n",
        "for i, char in enumerate(user_input):\n",
        "    if char == '1':\n",
        "        qc.x(q[i])\n",
        "\n",
        "print(\"Complete statevector:\")\n",
        "print(Statevector(qc))\n",
        "print(\"\\n\")\n",
        "\n",
        "waveform(qc)\n",
        "print(\"\\n\")\n",
        "\n",
        "qc.measure(q,c)\n",
        "print(qc.draw())"
      ],
      "metadata": {
        "colab": {
          "base_uri": "https://localhost:8080/"
        },
        "id": "cu-E0iafXug6",
        "outputId": "e92227bc-bff3-4ed6-d72d-cd18a7b6d6fd"
      },
      "execution_count": null,
      "outputs": [
        {
          "output_type": "stream",
          "name": "stdout",
          "text": [
            "Enter a binary string: 11001\n",
            "You entered: 11001\n",
            "\n",
            "\n",
            "Complete statevector:\n",
            "Statevector([0.+0.j, 0.+0.j, 0.+0.j, 0.+0.j, 0.+0.j, 0.+0.j, 0.+0.j,\n",
            "             0.+0.j, 0.+0.j, 0.+0.j, 0.+0.j, 0.+0.j, 0.+0.j, 0.+0.j,\n",
            "             0.+0.j, 0.+0.j, 0.+0.j, 0.+0.j, 0.+0.j, 1.+0.j, 0.+0.j,\n",
            "             0.+0.j, 0.+0.j, 0.+0.j, 0.+0.j, 0.+0.j, 0.+0.j, 0.+0.j,\n",
            "             0.+0.j, 0.+0.j, 0.+0.j, 0.+0.j],\n",
            "            dims=(2, 2, 2, 2, 2))\n",
            "\n",
            "\n",
            "Non-zero amplitudes in the statevector:\n",
            "|10011>: (1+0j)\n",
            "\n",
            "\n",
            "       ┌───┐      ┌─┐      \n",
            "q10_0: ┤ X ├──────┤M├──────\n",
            "       ├───┤      └╥┘┌─┐   \n",
            "q10_1: ┤ X ├───────╫─┤M├───\n",
            "       └───┘┌─┐    ║ └╥┘   \n",
            "q10_2: ─────┤M├────╫──╫────\n",
            "            └╥┘┌─┐ ║  ║    \n",
            "q10_3: ──────╫─┤M├─╫──╫────\n",
            "       ┌───┐ ║ └╥┘ ║  ║ ┌─┐\n",
            "q10_4: ┤ X ├─╫──╫──╫──╫─┤M├\n",
            "       └───┘ ║  ║  ║  ║ └╥┘\n",
            " c9: 5/══════╩══╩══╩══╩══╩═\n",
            "             2  3  0  1  4 \n"
          ]
        }
      ]
    },
    {
      "cell_type": "markdown",
      "source": [
        "##Lab 3 (31/01/2025)"
      ],
      "metadata": {
        "id": "GV2IXBqHteIL"
      }
    },
    {
      "cell_type": "markdown",
      "source": [
        "###Q1 Create a 1-qubit system with any superposition and measure the system. Show the statevector before measurement, the final circuit diagram and the measurement counts"
      ],
      "metadata": {
        "id": "Ui41rkjntfC9"
      }
    },
    {
      "cell_type": "code",
      "source": [
        "from qiskit import QuantumRegister, ClassicalRegister, QuantumCircuit, assemble\n",
        "from qiskit_aer import AerSimulator\n",
        "from qiskit.quantum_info import Statevector\n",
        "from qiskit import transpile\n",
        "import os\n",
        "import sys\n",
        "\n",
        "# ****************************************************************************************************\n",
        "\n",
        "qubits = 1\n",
        "q = QuantumRegister(qubits)\n",
        "c = ClassicalRegister(qubits)\n",
        "qc = QuantumCircuit(q, c)\n",
        "qc.h(q)\n",
        "\n",
        "# ****************************************************************************************************\n",
        "\n",
        "print(\"\\nBefore Measurement:\")\n",
        "\n",
        "print(\"\\nState Vector of Quantum Circuit:\")\n",
        "print(Statevector(qc))\n",
        "\n",
        "print(\"\\nQuantum Circuit:\")\n",
        "print(qc.draw())\n",
        "\n",
        "# ****************************************************************************************************\n",
        "\n",
        "print(\"\\nApplying Measurement:\")\n",
        "\n",
        "qc.measure(q,c)\n",
        "backend = AerSimulator()\n",
        "new_circuit = transpile(qc,backend)\n",
        "result = backend.run(new_circuit).result()\n",
        "counts = result.get_counts(new_circuit)\n",
        "\n",
        "# ****************************************************************************************************\n",
        "\n",
        "print(\"\\nAfter Measurement:\")\n",
        "\n",
        "print(\"\\nTranspiled Circuit:\")\n",
        "print(new_circuit.draw())\n",
        "\n",
        "print(\"\\nMeasurement Counts:\")\n",
        "print(counts)"
      ],
      "metadata": {
        "colab": {
          "base_uri": "https://localhost:8080/"
        },
        "id": "H_CgdS_1tbOu",
        "outputId": "47d492d9-7772-455b-9dd1-01b948124f73"
      },
      "execution_count": null,
      "outputs": [
        {
          "output_type": "stream",
          "name": "stdout",
          "text": [
            "\n",
            "Before Measurement:\n",
            "\n",
            "State Vector of Quantum Circuit:\n",
            "Statevector([0.70710678+0.j, 0.70710678+0.j],\n",
            "            dims=(2,))\n",
            "\n",
            "Quantum Circuit:\n",
            "       ┌───┐\n",
            "  q11: ┤ H ├\n",
            "       └───┘\n",
            "c10: 1/═════\n",
            "            \n",
            "\n",
            "Applying Measurement:\n",
            "\n",
            "After Measurement:\n",
            "\n",
            "Transpiled Circuit:\n",
            "       ┌───┐┌─┐\n",
            "  q11: ┤ H ├┤M├\n",
            "       └───┘└╥┘\n",
            "c10: 1/══════╩═\n",
            "             0 \n",
            "\n",
            "Measurement Counts:\n",
            "{'1': 526, '0': 498}\n"
          ]
        }
      ]
    },
    {
      "cell_type": "markdown",
      "source": [
        "###Q2 Create a 1-qubit system with any superposition and measure the system with two or three different number of shots. For each of these measurements, show the statevector before measurement, the final circuitdiagram and the measurement counts"
      ],
      "metadata": {
        "id": "8QcECIYFtnkG"
      }
    },
    {
      "cell_type": "code",
      "source": [
        "from qiskit import QuantumRegister, ClassicalRegister, QuantumCircuit, assemble\n",
        "from qiskit_aer import AerSimulator\n",
        "from qiskit.quantum_info import Statevector\n",
        "from qiskit import transpile\n",
        "import os\n",
        "import sys\n",
        "\n",
        "# ****************************************************************************************************\n",
        "\n",
        "qubits = 1\n",
        "q = QuantumRegister(qubits)\n",
        "c = ClassicalRegister(qubits)\n",
        "qc = QuantumCircuit(q, c)\n",
        "qc.h(q[0])\n",
        "\n",
        "# ****************************************************************************************************\n",
        "\n",
        "print(\"\\nBefore Measurement:\")\n",
        "\n",
        "print(\"\\nState Vector of Quantum Circuit:\")\n",
        "print(Statevector(qc))\n",
        "\n",
        "print(\"\\nQuantum Circuit:\")\n",
        "print(qc.draw())\n",
        "\n",
        "# ****************************************************************************************************\n",
        "\n",
        "print(\"\\nApplying Measurement:\")\n",
        "\n",
        "numShots = int(input(\"\\nNumber of Shots (User Input): \"))\n",
        "qc.measure(q,c)\n",
        "backend = AerSimulator()\n",
        "new_circuit = transpile(qc,backend)\n",
        "result = backend.run(new_circuit, shots=numShots).result()\n",
        "counts = result.get_counts(new_circuit)\n",
        "\n",
        "# ****************************************************************************************************\n",
        "\n",
        "print(\"\\nAfter Measurement:\")\n",
        "\n",
        "print(\"\\nTranspiled Circuit:\")\n",
        "print(new_circuit.draw())\n",
        "\n",
        "print(\"\\nMeasurement Counts:\")\n",
        "print(counts)"
      ],
      "metadata": {
        "colab": {
          "base_uri": "https://localhost:8080/"
        },
        "id": "ffLIpuzbtxF9",
        "outputId": "d2e5ca55-6c9f-492e-949c-9c4f845fee2e"
      },
      "execution_count": null,
      "outputs": [
        {
          "output_type": "stream",
          "name": "stdout",
          "text": [
            "\n",
            "Before Measurement:\n",
            "\n",
            "State Vector of Quantum Circuit:\n",
            "Statevector([0.70710678+0.j, 0.70710678+0.j],\n",
            "            dims=(2,))\n",
            "\n",
            "Quantum Circuit:\n",
            "       ┌───┐\n",
            "  q12: ┤ H ├\n",
            "       └───┘\n",
            "c11: 1/═════\n",
            "            \n",
            "\n",
            "Applying Measurement:\n",
            "\n",
            "Number of Shots (User Input): 3\n",
            "\n",
            "After Measurement:\n",
            "\n",
            "Transpiled Circuit:\n",
            "       ┌───┐┌─┐\n",
            "  q12: ┤ H ├┤M├\n",
            "       └───┘└╥┘\n",
            "c11: 1/══════╩═\n",
            "             0 \n",
            "\n",
            "Measurement Counts:\n",
            "{'1': 1, '0': 2}\n"
          ]
        }
      ]
    },
    {
      "cell_type": "markdown",
      "source": [
        "###Q3 Create a 2-qubit system and apply Hadamard gate on both qubits and measure the system with two or three different number of shots. For each of these measurements, show the statevector before measurement, the final circuitdiagram and the measurement counts"
      ],
      "metadata": {
        "id": "ViflVN9GvmxH"
      }
    },
    {
      "cell_type": "code",
      "source": [
        "from qiskit import QuantumRegister, ClassicalRegister, QuantumCircuit, assemble\n",
        "from qiskit_aer import AerSimulator\n",
        "from qiskit.quantum_info import Statevector\n",
        "from qiskit import transpile\n",
        "import os\n",
        "import sys\n",
        "\n",
        "# ****************************************************************************************************\n",
        "\n",
        "qubits = 2\n",
        "q = QuantumRegister(qubits)\n",
        "c = ClassicalRegister(qubits)\n",
        "qc = QuantumCircuit(q, c)\n",
        "qc.h(q)\n",
        "\n",
        "# ****************************************************************************************************\n",
        "\n",
        "print(\"\\nBefore Measurement:\")\n",
        "\n",
        "print(\"\\nState Vector of Quantum Circuit:\")\n",
        "print(Statevector(qc))\n",
        "\n",
        "print(\"\\nQuantum Circuit:\")\n",
        "print(qc.draw())\n",
        "\n",
        "# ****************************************************************************************************\n",
        "\n",
        "print(\"\\nApplying Measurement:\")\n",
        "\n",
        "numShots = int(input(\"\\nNumber of Shots (User Input): \"))\n",
        "qc.measure(q,c)\n",
        "backend = AerSimulator()\n",
        "new_circuit = transpile(qc,backend)\n",
        "result = backend.run(new_circuit, shots=numShots).result()\n",
        "counts = result.get_counts(new_circuit)\n",
        "\n",
        "# ****************************************************************************************************\n",
        "\n",
        "print(\"\\nAfter Measurement:\")\n",
        "\n",
        "print(\"\\nTranspiled Circuit:\")\n",
        "print(new_circuit.draw())\n",
        "\n",
        "print(\"\\nMeasurement Counts:\")\n",
        "print(counts)"
      ],
      "metadata": {
        "colab": {
          "base_uri": "https://localhost:8080/"
        },
        "id": "MdN653DBvoA4",
        "outputId": "3e26bc4e-5016-402a-83a6-f4bec11a153a"
      },
      "execution_count": null,
      "outputs": [
        {
          "output_type": "stream",
          "name": "stdout",
          "text": [
            "\n",
            "Before Measurement:\n",
            "\n",
            "State Vector of Quantum Circuit:\n",
            "Statevector([0.5+0.j, 0.5+0.j, 0.5+0.j, 0.5+0.j],\n",
            "            dims=(2, 2))\n",
            "\n",
            "Quantum Circuit:\n",
            "       ┌───┐\n",
            "q13_0: ┤ H ├\n",
            "       ├───┤\n",
            "q13_1: ┤ H ├\n",
            "       └───┘\n",
            "c12: 2/═════\n",
            "            \n",
            "\n",
            "Applying Measurement:\n",
            "\n",
            "Number of Shots (User Input): 3\n",
            "\n",
            "After Measurement:\n",
            "\n",
            "Transpiled Circuit:\n",
            "       ┌───┐┌─┐   \n",
            "q13_0: ┤ H ├┤M├───\n",
            "       ├───┤└╥┘┌─┐\n",
            "q13_1: ┤ H ├─╫─┤M├\n",
            "       └───┘ ║ └╥┘\n",
            "c12: 2/══════╩══╩═\n",
            "             0  1 \n",
            "\n",
            "Measurement Counts:\n",
            "{'11': 1, '10': 1, '00': 1}\n"
          ]
        }
      ]
    },
    {
      "cell_type": "markdown",
      "source": [
        "###Q4 Use the tools at your disposal to simulate a quantum coin flip. Display the circuit diagram that achieves this coin flip and explain how it makes sense as comments in your code."
      ],
      "metadata": {
        "id": "Khly35nm7N9m"
      }
    },
    {
      "cell_type": "code",
      "source": [
        "from qiskit import QuantumRegister, ClassicalRegister, QuantumCircuit, assemble\n",
        "from qiskit_aer import AerSimulator\n",
        "from qiskit.quantum_info import Statevector\n",
        "from qiskit import transpile\n",
        "import os\n",
        "import sys\n",
        "\n",
        "# ****************************************************************************************************\n",
        "\n",
        "# define a quantum register for 1 qubit (representing the coin side, head or tail)\n",
        "qubits = 1\n",
        "q = QuantumRegister(qubits)\n",
        "\n",
        "# define a classical register to store the result of the measurement\n",
        "c = ClassicalRegister(qubits)\n",
        "\n",
        "# create a quantum circuit using the quantum and classical registers\n",
        "qc = QuantumCircuit(q, c)\n",
        "\n",
        "# apply a hadamard gate to create an equal superposition (50% head, 50% tail)\n",
        "qc.h(q)\n",
        "\n",
        "# ****************************************************************************************************\n",
        "\n",
        "# before measurement, show the statevector (quantum state) of the circuit\n",
        "print(\"\\nBefore Measurement:\")\n",
        "\n",
        "# display the state vector (quantum state of the system)\n",
        "print(\"\\nState Vector of Quantum Circuit:\")\n",
        "print(Statevector(qc))\n",
        "\n",
        "# display the quantum circuit diagram before measurement\n",
        "print(\"\\nQuantum Circuit:\")\n",
        "print(qc.draw())\n",
        "\n",
        "# ****************************************************************************************************\n",
        "\n",
        "# applying measurement to collapse the state (from superposition to one of the two outcomes)\n",
        "print(\"\\nApplying Measurement:\")\n",
        "\n",
        "# define the number of shots, only one flip is needed for the result\n",
        "numShots = 1\n",
        "\n",
        "# measure the quantum register into the classical register\n",
        "qc.measure(q, c)\n",
        "\n",
        "# initialize the simulator backend\n",
        "backend = AerSimulator()\n",
        "\n",
        "# transpile the quantum circuit to optimize it for the backend\n",
        "new_circuit = transpile(qc, backend)\n",
        "\n",
        "# execute the circuit on the simulator with the defined number of shots (1 flip)\n",
        "result = backend.run(new_circuit, shots=numShots).result()\n",
        "\n",
        "# get the counts (frequency distribution of head and tail)\n",
        "counts = result.get_counts(new_circuit)\n",
        "\n",
        "# ****************************************************************************************************\n",
        "\n",
        "# after measurement, display the transpiled circuit and the measurement results\n",
        "print(\"\\nAfter Measurement:\")\n",
        "\n",
        "# display the transpiled quantum circuit\n",
        "print(\"\\nTranspiled Circuit:\")\n",
        "print(new_circuit.draw())\n",
        "\n",
        "# display the measurement counts (how many times head or tail occurred)\n",
        "print(\"\\nMeasurement Counts (Heads = '0', Tails = '1'):\")\n",
        "print(counts)\n",
        "\n",
        "# determine and print whether the result is head or tail\n",
        "if '0' in counts:\n",
        "    print(\"\\nCoin Flip Result: Head\")\n",
        "else:\n",
        "    print(\"\\nCoin Flip Result: Tail\")\n"
      ],
      "metadata": {
        "colab": {
          "base_uri": "https://localhost:8080/"
        },
        "id": "hTCJHMEd0pL5",
        "outputId": "2b6fe860-bf8f-4d96-e90a-9d1e97462058"
      },
      "execution_count": null,
      "outputs": [
        {
          "output_type": "stream",
          "name": "stdout",
          "text": [
            "\n",
            "Before Measurement:\n",
            "\n",
            "State Vector of Quantum Circuit:\n",
            "Statevector([0.70710678+0.j, 0.70710678+0.j],\n",
            "            dims=(2,))\n",
            "\n",
            "Quantum Circuit:\n",
            "       ┌───┐\n",
            "  q14: ┤ H ├\n",
            "       └───┘\n",
            "c13: 1/═════\n",
            "            \n",
            "\n",
            "Applying Measurement:\n",
            "\n",
            "After Measurement:\n",
            "\n",
            "Transpiled Circuit:\n",
            "       ┌───┐┌─┐\n",
            "  q14: ┤ H ├┤M├\n",
            "       └───┘└╥┘\n",
            "c13: 1/══════╩═\n",
            "             0 \n",
            "\n",
            "Measurement Counts (Heads = '0', Tails = '1'):\n",
            "{'1': 1}\n",
            "\n",
            "Coin Flip Result: Tail\n"
          ]
        }
      ]
    },
    {
      "cell_type": "markdown",
      "source": [
        "###Q5"
      ],
      "metadata": {
        "id": "znwFsqpg7TAU"
      }
    },
    {
      "cell_type": "markdown",
      "source": [
        "####Part 1. Create a 1-qubit system and apply any gate to it. Show the statevector before measurement. It is sufficient to measure the system with only 1 shot this time. After printing the counts of the measurement, try printing the statevector in the same way."
      ],
      "metadata": {
        "id": "T2QahMpz8SSt"
      }
    },
    {
      "cell_type": "code",
      "source": [
        "from qiskit import QuantumRegister, ClassicalRegister, QuantumCircuit, assemble\n",
        "from qiskit_aer import AerSimulator\n",
        "from qiskit.quantum_info import Statevector\n",
        "from qiskit import transpile\n",
        "import os\n",
        "import sys\n",
        "\n",
        "# ****************************************************************************************************\n",
        "\n",
        "qubits = 2\n",
        "q = QuantumRegister(qubits)\n",
        "c = ClassicalRegister(qubits)\n",
        "qc = QuantumCircuit(q, c)\n",
        "\n",
        "qc.x(q[0])\n",
        "qc.save_statevector('psi1')\n",
        "\n",
        "qc.h(q)\n",
        "qc.save_statevector('psi2')\n",
        "\n",
        "qc.x(q[1])\n",
        "qc.save_statevector('psi3')\n",
        "\n",
        "# ****************************************************************************************************\n",
        "\n",
        "print(\"\\nBefore Measurement:\")\n",
        "\n",
        "backend = AerSimulator()\n",
        "new_circuit = transpile(qc, backend)\n",
        "result = backend.run(new_circuit).result()\n",
        "\n",
        "psi1 = result.data()['psi1']\n",
        "psi2 = result.data()['psi2']\n",
        "psi3 = result.data()['psi3']\n",
        "\n",
        "print(\"\\nQuantum Circuit:\")\n",
        "print(qc.draw())\n",
        "\n",
        "# ****************************************************************************************************\n",
        "\n",
        "qc.measure(q, c)\n",
        "result = backend.run(new_circuit, shots=1).result()\n",
        "counts = result.get_counts(new_circuit)\n",
        "\n",
        "# ****************************************************************************************************\n",
        "\n",
        "print(\"\\nAfter Measurement:\")\n",
        "\n",
        "print(\"\\nTranspiled Circuit after Measurement:\")\n",
        "print(qc.draw())\n",
        "\n",
        "print(\"\\nMeasurement Counts:\")\n",
        "print(counts)\n",
        "\n",
        "# ****************************************************************************************************\n",
        "\n",
        "print(\"\\nCircuit Slicing:\")\n",
        "\n",
        "print(\"\\nState Vector at psi1:\")\n",
        "print(psi1)\n",
        "\n",
        "print(\"\\nState Vector at psi2:\")\n",
        "print(psi2)\n",
        "\n",
        "print(\"\\nState Vector at psi3:\")\n",
        "print(psi3)"
      ],
      "metadata": {
        "colab": {
          "base_uri": "https://localhost:8080/"
        },
        "id": "dcgTyG-d7bZN",
        "outputId": "a09e2b88-d5f8-4f74-c251-2e3bb4eae571"
      },
      "execution_count": null,
      "outputs": [
        {
          "output_type": "stream",
          "name": "stdout",
          "text": [
            "\n",
            "Before Measurement:\n",
            "\n",
            "Quantum Circuit:\n",
            "       ┌───┐ psi1 ┌───┐ psi2       psi3 \n",
            "q15_0: ┤ X ├──░───┤ H ├──░──────────░───\n",
            "       └───┘  ░   ├───┤  ░   ┌───┐  ░   \n",
            "q15_1: ───────░───┤ H ├──░───┤ X ├──░───\n",
            "              ░   └───┘  ░   └───┘  ░   \n",
            "c14: 2/═════════════════════════════════\n",
            "                                        \n",
            "\n",
            "After Measurement:\n",
            "\n",
            "Transpiled Circuit after Measurement:\n",
            "       ┌───┐ psi1 ┌───┐ psi2       psi3 ┌─┐   \n",
            "q15_0: ┤ X ├──░───┤ H ├──░──────────░───┤M├───\n",
            "       └───┘  ░   ├───┤  ░   ┌───┐  ░   └╥┘┌─┐\n",
            "q15_1: ───────░───┤ H ├──░───┤ X ├──░────╫─┤M├\n",
            "              ░   └───┘  ░   └───┘  ░    ║ └╥┘\n",
            "c14: 2/══════════════════════════════════╩══╩═\n",
            "                                         0  1 \n",
            "\n",
            "Measurement Counts:\n",
            "{'00': 1}\n",
            "\n",
            "Circuit Slicing:\n",
            "\n",
            "State Vector at psi1:\n",
            "Statevector([0.+0.j, 1.+0.j, 0.+0.j, 0.+0.j],\n",
            "            dims=(2, 2))\n",
            "\n",
            "State Vector at psi2:\n",
            "Statevector([ 0.5-6.123234e-17j, -0.5+6.123234e-17j,  0.5-6.123234e-17j,\n",
            "             -0.5+6.123234e-17j],\n",
            "            dims=(2, 2))\n",
            "\n",
            "State Vector at psi3:\n",
            "Statevector([ 0.5-6.123234e-17j, -0.5+6.123234e-17j,  0.5-6.123234e-17j,\n",
            "             -0.5+6.123234e-17j],\n",
            "            dims=(2, 2))\n"
          ]
        }
      ]
    },
    {
      "cell_type": "markdown",
      "source": [
        "####Part 2 Create a 2-qubit system and apply the NOT gate on the top qubit. Save this point as ’psi1’. This object can be passed as input to your waveform function to display the statevector. Now, apply Hadamard gates on both the qubits. Save this point as ’psi2’ and print this statevector as well. Finally, apply the NOT gate on the second qubit and save this final state as ’psi3’. Display this statevector as well and finally draw the circuit diagram to visualise circuit slicing."
      ],
      "metadata": {
        "id": "5FxT173C7-Si"
      }
    },
    {
      "cell_type": "markdown",
      "source": [
        "###Q6 Follow the exact same procedure given in the last question, but make a measurement after ’psi3’ (use 1 shot only). After the measurement, save the new statevector as ’psi4’. Display this final statevector along with the circuit diagram. As comments in your code, explain why this final statevector is different from the rest."
      ],
      "metadata": {
        "id": "ZK4zoCv570hu"
      }
    },
    {
      "cell_type": "code",
      "source": [
        "from qiskit import QuantumRegister, ClassicalRegister, QuantumCircuit, assemble\n",
        "from qiskit_aer import AerSimulator\n",
        "from qiskit.quantum_info import Statevector\n",
        "from qiskit import transpile\n",
        "import os\n",
        "import sys\n",
        "\n",
        "# ****************************************************************************************************\n",
        "\n",
        "qubits = 2\n",
        "q = QuantumRegister(qubits)\n",
        "c = ClassicalRegister(qubits)\n",
        "qc = QuantumCircuit(q, c)\n",
        "\n",
        "qc.x(q[0])\n",
        "qc.save_statevector('psi1')\n",
        "\n",
        "qc.h(q)\n",
        "qc.save_statevector('psi2')\n",
        "\n",
        "qc.x(q[1])\n",
        "qc.save_statevector('psi3')\n",
        "\n",
        "# ****************************************************************************************************\n",
        "\n",
        "print(\"\\nBefore Measurement:\")\n",
        "\n",
        "print(\"\\nQuantum Circuit:\")\n",
        "print(qc.draw())\n",
        "\n",
        "# ****************************************************************************************************\n",
        "\n",
        "qc.measure(q, c)\n",
        "backend = AerSimulator()\n",
        "qc.save_statevector('psi4')\n",
        "new_circuit = transpile(qc, backend)\n",
        "result = backend.run(new_circuit, shots=1).result()\n",
        "counts = result.get_counts(new_circuit)\n",
        "\n",
        "psi1 = result.data()['psi1']\n",
        "psi2 = result.data()['psi2']\n",
        "psi3 = result.data()['psi3']\n",
        "psi4 = result.data()['psi4']\n",
        "\n",
        "# ****************************************************************************************************\n",
        "\n",
        "print(\"\\nAfter Measurement:\")\n",
        "\n",
        "print(\"\\nTranspiled Circuit:\")\n",
        "print(qc.draw())\n",
        "\n",
        "print(\"\\nMeasurement Counts:\")\n",
        "print(counts)\n",
        "\n",
        "# ****************************************************************************************************\n",
        "\n",
        "print(\"\\nCircuit Slicing:\")\n",
        "\n",
        "print(\"\\nState Vector at psi1:\")\n",
        "print(psi1)\n",
        "\n",
        "print(\"\\nState Vector at psi2:\")\n",
        "print(psi2)\n",
        "\n",
        "print(\"\\nState Vector at psi3:\")\n",
        "print(psi3)\n",
        "\n",
        "print(\"\\nState Vector at psi4:\")\n",
        "print(psi4)\n",
        "\n",
        "# psi4 is the statevector after measurement\n",
        "# we see the collapsing of a quantum state to a classical state\n",
        "# thus, psi4 represents a classical state\n",
        "# which means that it will not be a superposition of states\n",
        "# but will have a nonzero value at only one position in the statevector\n",
        "# thereby representing a single classical state\n"
      ],
      "metadata": {
        "colab": {
          "base_uri": "https://localhost:8080/"
        },
        "id": "SgYa6QbIP2oG",
        "outputId": "4906bea0-9a90-40b0-8e73-bdfaedf72a78"
      },
      "execution_count": null,
      "outputs": [
        {
          "output_type": "stream",
          "name": "stdout",
          "text": [
            "\n",
            "Before Measurement:\n",
            "\n",
            "Quantum Circuit:\n",
            "       ┌───┐ psi1 ┌───┐ psi2       psi3 \n",
            "q16_0: ┤ X ├──░───┤ H ├──░──────────░───\n",
            "       └───┘  ░   ├───┤  ░   ┌───┐  ░   \n",
            "q16_1: ───────░───┤ H ├──░───┤ X ├──░───\n",
            "              ░   └───┘  ░   └───┘  ░   \n",
            "c15: 2/═════════════════════════════════\n",
            "                                        \n",
            "\n",
            "After Measurement:\n",
            "\n",
            "Transpiled Circuit:\n",
            "       ┌───┐ psi1 ┌───┐ psi2       psi3 ┌─┐    psi4 \n",
            "q16_0: ┤ X ├──░───┤ H ├──░──────────░───┤M├─────░───\n",
            "       └───┘  ░   ├───┤  ░   ┌───┐  ░   └╥┘┌─┐  ░   \n",
            "q16_1: ───────░───┤ H ├──░───┤ X ├──░────╫─┤M├──░───\n",
            "              ░   └───┘  ░   └───┘  ░    ║ └╥┘  ░   \n",
            "c15: 2/══════════════════════════════════╩══╩═══════\n",
            "                                         0  1       \n",
            "\n",
            "Measurement Counts:\n",
            "{'01': 1}\n",
            "\n",
            "Circuit Slicing:\n",
            "\n",
            "State Vector at psi1:\n",
            "Statevector([0.+0.j, 1.+0.j, 0.+0.j, 0.+0.j],\n",
            "            dims=(2, 2))\n",
            "\n",
            "State Vector at psi2:\n",
            "Statevector([ 0.5-6.123234e-17j, -0.5+6.123234e-17j,  0.5-6.123234e-17j,\n",
            "             -0.5+6.123234e-17j],\n",
            "            dims=(2, 2))\n",
            "\n",
            "State Vector at psi3:\n",
            "Statevector([ 0.5-6.123234e-17j, -0.5+6.123234e-17j,  0.5-6.123234e-17j,\n",
            "             -0.5+6.123234e-17j],\n",
            "            dims=(2, 2))\n",
            "\n",
            "State Vector at psi4:\n",
            "Statevector([ 0.+0.0000000e+00j, -1.+1.2246468e-16j,  0.+0.0000000e+00j,\n",
            "             -0.+0.0000000e+00j],\n",
            "            dims=(2, 2))\n"
          ]
        }
      ]
    }
  ]
}