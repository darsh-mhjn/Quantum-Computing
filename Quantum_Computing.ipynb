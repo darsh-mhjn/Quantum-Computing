{
  "nbformat": 4,
  "nbformat_minor": 0,
  "metadata": {
    "colab": {
      "provenance": [],
      "collapsed_sections": [
        "jFf6UEmkwsgO",
        "dnDE8ngAwDgz"
      ],
      "authorship_tag": "ABX9TyOglJMYgx9thCz1sYYppzNf",
      "include_colab_link": true
    },
    "kernelspec": {
      "name": "python3",
      "display_name": "Python 3"
    },
    "language_info": {
      "name": "python"
    }
  },
  "cells": [
    {
      "cell_type": "markdown",
      "metadata": {
        "id": "view-in-github",
        "colab_type": "text"
      },
      "source": [
        "<a href=\"https://colab.research.google.com/github/darsh-mhjn/Quantum-Computing/blob/main/Quantum_Computing.ipynb\" target=\"_parent\"><img src=\"https://colab.research.google.com/assets/colab-badge.svg\" alt=\"Open In Colab\"/></a>"
      ]
    },
    {
      "cell_type": "markdown",
      "source": [
        "#Quantum Computing ( CS621 )\n"
      ],
      "metadata": {
        "id": "27G2JU96vq-J"
      }
    },
    {
      "cell_type": "markdown",
      "source": [
        "**Darsh Mahajan | दर्श महाजन ( 12240500 )**\n",
        "\n",
        "**Computer Science and Engineering - Student (B.Tech '22)**\n",
        "\n",
        "**Indian Institute of Technology Bhilai**"
      ],
      "metadata": {
        "id": "E3M57Mtzci_L"
      }
    },
    {
      "cell_type": "markdown",
      "source": [
        "##Requirements"
      ],
      "metadata": {
        "id": "MPWqJiyacRcB"
      }
    },
    {
      "cell_type": "markdown",
      "source": [
        "###Installing libraries"
      ],
      "metadata": {
        "id": "Qfxns6M6cYgJ"
      }
    },
    {
      "cell_type": "code",
      "source": [
        "!pip install qiskit\n",
        "!pip install qiskit_aer"
      ],
      "metadata": {
        "colab": {
          "base_uri": "https://localhost:8080/"
        },
        "id": "KiBSDLIhvuDs",
        "outputId": "a860804a-b868-418c-a06e-718d92912a38"
      },
      "execution_count": 31,
      "outputs": [
        {
          "output_type": "stream",
          "name": "stdout",
          "text": [
            "Requirement already satisfied: qiskit in /usr/local/lib/python3.11/dist-packages (1.4.2)\n",
            "Requirement already satisfied: rustworkx>=0.15.0 in /usr/local/lib/python3.11/dist-packages (from qiskit) (0.16.0)\n",
            "Requirement already satisfied: numpy<3,>=1.17 in /usr/local/lib/python3.11/dist-packages (from qiskit) (2.0.2)\n",
            "Requirement already satisfied: scipy>=1.5 in /usr/local/lib/python3.11/dist-packages (from qiskit) (1.14.1)\n",
            "Requirement already satisfied: sympy>=1.3 in /usr/local/lib/python3.11/dist-packages (from qiskit) (1.13.1)\n",
            "Requirement already satisfied: dill>=0.3 in /usr/local/lib/python3.11/dist-packages (from qiskit) (0.3.9)\n",
            "Requirement already satisfied: python-dateutil>=2.8.0 in /usr/local/lib/python3.11/dist-packages (from qiskit) (2.8.2)\n",
            "Requirement already satisfied: stevedore>=3.0.0 in /usr/local/lib/python3.11/dist-packages (from qiskit) (5.4.1)\n",
            "Requirement already satisfied: typing-extensions in /usr/local/lib/python3.11/dist-packages (from qiskit) (4.12.2)\n",
            "Requirement already satisfied: symengine<0.14,>=0.11 in /usr/local/lib/python3.11/dist-packages (from qiskit) (0.13.0)\n",
            "Requirement already satisfied: six>=1.5 in /usr/local/lib/python3.11/dist-packages (from python-dateutil>=2.8.0->qiskit) (1.17.0)\n",
            "Requirement already satisfied: pbr>=2.0.0 in /usr/local/lib/python3.11/dist-packages (from stevedore>=3.0.0->qiskit) (6.1.1)\n",
            "Requirement already satisfied: mpmath<1.4,>=1.1.0 in /usr/local/lib/python3.11/dist-packages (from sympy>=1.3->qiskit) (1.3.0)\n",
            "Requirement already satisfied: setuptools in /usr/local/lib/python3.11/dist-packages (from pbr>=2.0.0->stevedore>=3.0.0->qiskit) (75.1.0)\n",
            "Requirement already satisfied: qiskit_aer in /usr/local/lib/python3.11/dist-packages (0.17.0)\n",
            "Requirement already satisfied: qiskit>=1.1.0 in /usr/local/lib/python3.11/dist-packages (from qiskit_aer) (1.4.2)\n",
            "Requirement already satisfied: numpy>=1.16.3 in /usr/local/lib/python3.11/dist-packages (from qiskit_aer) (2.0.2)\n",
            "Requirement already satisfied: scipy>=1.0 in /usr/local/lib/python3.11/dist-packages (from qiskit_aer) (1.14.1)\n",
            "Requirement already satisfied: psutil>=5 in /usr/local/lib/python3.11/dist-packages (from qiskit_aer) (5.9.5)\n",
            "Requirement already satisfied: rustworkx>=0.15.0 in /usr/local/lib/python3.11/dist-packages (from qiskit>=1.1.0->qiskit_aer) (0.16.0)\n",
            "Requirement already satisfied: sympy>=1.3 in /usr/local/lib/python3.11/dist-packages (from qiskit>=1.1.0->qiskit_aer) (1.13.1)\n",
            "Requirement already satisfied: dill>=0.3 in /usr/local/lib/python3.11/dist-packages (from qiskit>=1.1.0->qiskit_aer) (0.3.9)\n",
            "Requirement already satisfied: python-dateutil>=2.8.0 in /usr/local/lib/python3.11/dist-packages (from qiskit>=1.1.0->qiskit_aer) (2.8.2)\n",
            "Requirement already satisfied: stevedore>=3.0.0 in /usr/local/lib/python3.11/dist-packages (from qiskit>=1.1.0->qiskit_aer) (5.4.1)\n",
            "Requirement already satisfied: typing-extensions in /usr/local/lib/python3.11/dist-packages (from qiskit>=1.1.0->qiskit_aer) (4.12.2)\n",
            "Requirement already satisfied: symengine<0.14,>=0.11 in /usr/local/lib/python3.11/dist-packages (from qiskit>=1.1.0->qiskit_aer) (0.13.0)\n",
            "Requirement already satisfied: six>=1.5 in /usr/local/lib/python3.11/dist-packages (from python-dateutil>=2.8.0->qiskit>=1.1.0->qiskit_aer) (1.17.0)\n",
            "Requirement already satisfied: pbr>=2.0.0 in /usr/local/lib/python3.11/dist-packages (from stevedore>=3.0.0->qiskit>=1.1.0->qiskit_aer) (6.1.1)\n",
            "Requirement already satisfied: mpmath<1.4,>=1.1.0 in /usr/local/lib/python3.11/dist-packages (from sympy>=1.3->qiskit>=1.1.0->qiskit_aer) (1.3.0)\n",
            "Requirement already satisfied: setuptools in /usr/local/lib/python3.11/dist-packages (from pbr>=2.0.0->stevedore>=3.0.0->qiskit>=1.1.0->qiskit_aer) (75.1.0)\n"
          ]
        }
      ]
    },
    {
      "cell_type": "markdown",
      "source": [
        "###Importing From Libraries"
      ],
      "metadata": {
        "id": "YFkD6Y1EcerC"
      }
    },
    {
      "cell_type": "code",
      "source": [
        "from qiskit import QuantumRegister, ClassicalRegister, QuantumCircuit, assemble, transpile\n",
        "from qiskit_aer import AerSimulator, Aer\n",
        "from qiskit.compiler import transpile\n",
        "from qiskit.quantum_info import random_statevector, Statevector\n",
        "import numpy as np\n",
        "import os\n",
        "import sys"
      ],
      "metadata": {
        "id": "zl9K_JBZR-WG"
      },
      "execution_count": 32,
      "outputs": []
    },
    {
      "cell_type": "markdown",
      "source": [
        "##**LAB 1** (17/01/2025)"
      ],
      "metadata": {
        "id": "jFf6UEmkwsgO"
      }
    },
    {
      "cell_type": "markdown",
      "source": [
        "###1. Create a 1-qubit system (Quantum Circuit with Quantum and Classical Registers of size 1 each)."
      ],
      "metadata": {
        "id": "sKf7pxqfwoo2"
      }
    },
    {
      "cell_type": "code",
      "source": [
        "q = QuantumRegister(1)\n",
        "c = ClassicalRegister(1)\n",
        "qc = QuantumCircuit(q,c)\n",
        "\n",
        "print(Statevector(qc))\n",
        "print(\"\\n\")\n",
        "qc.measure(q,c)\n",
        "print(qc.draw())"
      ],
      "metadata": {
        "colab": {
          "base_uri": "https://localhost:8080/"
        },
        "id": "X96yCo6DwY-V",
        "outputId": "d3f37a7d-500c-4df1-b64c-9eb2da979354"
      },
      "execution_count": 33,
      "outputs": [
        {
          "output_type": "stream",
          "name": "stdout",
          "text": [
            "Statevector([1.+0.j, 0.+0.j],\n",
            "            dims=(2,))\n",
            "\n",
            "\n",
            "       ┌─┐\n",
            "  q20: ┤M├\n",
            "       └╥┘\n",
            "c19: 1/═╩═\n",
            "        0 \n"
          ]
        }
      ]
    },
    {
      "cell_type": "markdown",
      "source": [
        "###2. Create a 1-qubit system and apply the NOT gate and the Hadamard gate."
      ],
      "metadata": {
        "id": "UCr1HszywvXK"
      }
    },
    {
      "cell_type": "code",
      "source": [
        "q = QuantumRegister(1)\n",
        "c = ClassicalRegister(1)\n",
        "qc = QuantumCircuit(q,c)\n",
        "\n",
        "qc.x(q)\n",
        "qc.h(q)\n",
        "\n",
        "print(Statevector(qc))\n",
        "print(\"\\n\")\n",
        "\n",
        "qc.measure(q,c)\n",
        "print(qc.draw())"
      ],
      "metadata": {
        "colab": {
          "base_uri": "https://localhost:8080/"
        },
        "id": "DN7CFa9Bwy-Y",
        "outputId": "208ac7ad-9d0d-411d-bd49-b7d68cb26a30"
      },
      "execution_count": 34,
      "outputs": [
        {
          "output_type": "stream",
          "name": "stdout",
          "text": [
            "Statevector([ 0.70710678+0.j, -0.70710678+0.j],\n",
            "            dims=(2,))\n",
            "\n",
            "\n",
            "       ┌───┐┌───┐┌─┐\n",
            "  q21: ┤ X ├┤ H ├┤M├\n",
            "       └───┘└───┘└╥┘\n",
            "c20: 1/═══════════╩═\n",
            "                  0 \n"
          ]
        }
      ]
    },
    {
      "cell_type": "markdown",
      "source": [
        "###3. Create a 1-qubit system and apply the Hadamard gate twice."
      ],
      "metadata": {
        "id": "y81omZx5SW7L"
      }
    },
    {
      "cell_type": "code",
      "source": [
        "q = QuantumRegister(1)\n",
        "c = ClassicalRegister(1)\n",
        "qc = QuantumCircuit(q,c)\n",
        "print(Statevector(qc))\n",
        "print(\"\\n\")\n",
        "qc.h(q)\n",
        "print(Statevector(qc))\n",
        "print(\"\\n\")\n",
        "qc.h(q)\n",
        "print(Statevector(qc))\n",
        "print(\"\\n\")\n",
        "qc.measure(q,c)\n",
        "print(qc.draw())"
      ],
      "metadata": {
        "colab": {
          "base_uri": "https://localhost:8080/"
        },
        "id": "f5tYgca_TneU",
        "outputId": "f58c1b2f-5acd-4bc3-89e8-cd069854bb51"
      },
      "execution_count": 35,
      "outputs": [
        {
          "output_type": "stream",
          "name": "stdout",
          "text": [
            "Statevector([1.+0.j, 0.+0.j],\n",
            "            dims=(2,))\n",
            "\n",
            "\n",
            "Statevector([0.70710678+0.j, 0.70710678+0.j],\n",
            "            dims=(2,))\n",
            "\n",
            "\n",
            "Statevector([1.+0.j, 0.+0.j],\n",
            "            dims=(2,))\n",
            "\n",
            "\n",
            "       ┌───┐┌───┐┌─┐\n",
            "  q22: ┤ H ├┤ H ├┤M├\n",
            "       └───┘└───┘└╥┘\n",
            "c21: 1/═══════════╩═\n",
            "                  0 \n"
          ]
        }
      ]
    },
    {
      "cell_type": "markdown",
      "source": [
        "###4. Create a 2-qubit system and apply the NOT gate to the first (top) qubit andthe Hadamard gate to the second (bottom) qubit."
      ],
      "metadata": {
        "id": "lb6Mf0XuSYa_"
      }
    },
    {
      "cell_type": "code",
      "source": [
        "q = QuantumRegister(2)\n",
        "c = ClassicalRegister(2)\n",
        "qc = QuantumCircuit(q,c)\n",
        "\n",
        "print(Statevector(qc))\n",
        "print(\"\\n\")\n",
        "\n",
        "qc.x(q[0])\n",
        "qc.h(q[1])\n",
        "\n",
        "print(Statevector(qc))\n",
        "print(\"\\n\")\n",
        "\n",
        "qc.measure(q[0],c[0])\n",
        "qc.measure(q[1],c[1])\n",
        "print(qc.draw())"
      ],
      "metadata": {
        "colab": {
          "base_uri": "https://localhost:8080/"
        },
        "id": "iABI3w3lTqj8",
        "outputId": "dac3f35b-d038-42da-ff91-e452ffc30929"
      },
      "execution_count": 36,
      "outputs": [
        {
          "output_type": "stream",
          "name": "stdout",
          "text": [
            "Statevector([1.+0.j, 0.+0.j, 0.+0.j, 0.+0.j],\n",
            "            dims=(2, 2))\n",
            "\n",
            "\n",
            "Statevector([0.        +0.j, 0.70710678+0.j, 0.        +0.j,\n",
            "             0.70710678+0.j],\n",
            "            dims=(2, 2))\n",
            "\n",
            "\n",
            "       ┌───┐┌─┐   \n",
            "q23_0: ┤ X ├┤M├───\n",
            "       ├───┤└╥┘┌─┐\n",
            "q23_1: ┤ H ├─╫─┤M├\n",
            "       └───┘ ║ └╥┘\n",
            "c22: 2/══════╩══╩═\n",
            "             0  1 \n"
          ]
        }
      ]
    },
    {
      "cell_type": "markdown",
      "source": [
        "###5. Create a 2-qubit system and apply the NOT gate to the second (bottom) qubit and the Hadamard gate to the first (top) qubit."
      ],
      "metadata": {
        "id": "1KgPUI0YSeSq"
      }
    },
    {
      "cell_type": "code",
      "source": [
        "q = QuantumRegister(2)\n",
        "c = ClassicalRegister(2)\n",
        "qc = QuantumCircuit(q,c)\n",
        "\n",
        "print(Statevector(qc))\n",
        "print(\"\\n\")\n",
        "\n",
        "qc.h(q[0])\n",
        "qc.x(q[1])\n",
        "\n",
        "print(Statevector(qc))\n",
        "print(\"\\n\")\n",
        "\n",
        "qc.measure(q[0],c[0])\n",
        "qc.measure(q[1],c[1])\n",
        "print(qc.draw())"
      ],
      "metadata": {
        "colab": {
          "base_uri": "https://localhost:8080/"
        },
        "id": "SD-u0W8nTxTa",
        "outputId": "8ea8b01a-d84b-453d-b21c-8d1bd70fe96b"
      },
      "execution_count": 37,
      "outputs": [
        {
          "output_type": "stream",
          "name": "stdout",
          "text": [
            "Statevector([1.+0.j, 0.+0.j, 0.+0.j, 0.+0.j],\n",
            "            dims=(2, 2))\n",
            "\n",
            "\n",
            "Statevector([0.        +0.j, 0.        +0.j, 0.70710678+0.j,\n",
            "             0.70710678+0.j],\n",
            "            dims=(2, 2))\n",
            "\n",
            "\n",
            "       ┌───┐┌─┐   \n",
            "q24_0: ┤ H ├┤M├───\n",
            "       ├───┤└╥┘┌─┐\n",
            "q24_1: ┤ X ├─╫─┤M├\n",
            "       └───┘ ║ └╥┘\n",
            "c23: 2/══════╩══╩═\n",
            "             0  1 \n"
          ]
        }
      ]
    },
    {
      "cell_type": "markdown",
      "source": [
        "###6. Create a 2-qubit system and apply the Hadamard gate to both the qubits."
      ],
      "metadata": {
        "id": "PSG9aZs0SzuS"
      }
    },
    {
      "cell_type": "code",
      "source": [
        "q = QuantumRegister(2)\n",
        "c = ClassicalRegister(2)\n",
        "qc = QuantumCircuit(q,c)\n",
        "\n",
        "print(Statevector(qc))\n",
        "print(\"\\n\")\n",
        "\n",
        "qc.h(q[0])\n",
        "qc.h(q[1])\n",
        "\n",
        "print(Statevector(qc))\n",
        "print(\"\\n\")\n",
        "\n",
        "qc.measure(q[0],c[0])\n",
        "qc.measure(q[1],c[1])\n",
        "print(qc.draw())"
      ],
      "metadata": {
        "colab": {
          "base_uri": "https://localhost:8080/"
        },
        "id": "j_og4k-dT77O",
        "outputId": "6c025190-6afd-4df5-fda2-c38c8ca5db32"
      },
      "execution_count": 38,
      "outputs": [
        {
          "output_type": "stream",
          "name": "stdout",
          "text": [
            "Statevector([1.+0.j, 0.+0.j, 0.+0.j, 0.+0.j],\n",
            "            dims=(2, 2))\n",
            "\n",
            "\n",
            "Statevector([0.5+0.j, 0.5+0.j, 0.5+0.j, 0.5+0.j],\n",
            "            dims=(2, 2))\n",
            "\n",
            "\n",
            "       ┌───┐┌─┐   \n",
            "q25_0: ┤ H ├┤M├───\n",
            "       ├───┤└╥┘┌─┐\n",
            "q25_1: ┤ H ├─╫─┤M├\n",
            "       └───┘ ║ └╥┘\n",
            "c24: 2/══════╩══╩═\n",
            "             0  1 \n"
          ]
        }
      ]
    },
    {
      "cell_type": "markdown",
      "source": [
        "###7. Create a 2-qubit system and first apply the NOT gate on the first (top) qubit. Then, apply the Hadamard gate to both the qubits. You should show how you can clearly distinguish these steps in the circuit diagram by using a barrier."
      ],
      "metadata": {
        "id": "MQ2dYMIzS8r5"
      }
    },
    {
      "cell_type": "code",
      "source": [
        "q = QuantumRegister(2)\n",
        "c = ClassicalRegister(2)\n",
        "qc = QuantumCircuit(q,c)\n",
        "\n",
        "print(Statevector(qc))\n",
        "print(\"\\n\")\n",
        "\n",
        "qc.x(q[0])\n",
        "\n",
        "qc.barrier()\n",
        "\n",
        "qc.h(q[0])\n",
        "qc.h(q[1])\n",
        "\n",
        "print(Statevector(qc))\n",
        "print(\"\\n\")\n",
        "\n",
        "qc.measure(q[0],c[0])\n",
        "qc.measure(q[1],c[1])\n",
        "print(qc.draw())"
      ],
      "metadata": {
        "colab": {
          "base_uri": "https://localhost:8080/"
        },
        "id": "CF_nznJ-UA1V",
        "outputId": "a7d95136-ca17-43e9-b9fb-cacfa0eaee26"
      },
      "execution_count": 39,
      "outputs": [
        {
          "output_type": "stream",
          "name": "stdout",
          "text": [
            "Statevector([1.+0.j, 0.+0.j, 0.+0.j, 0.+0.j],\n",
            "            dims=(2, 2))\n",
            "\n",
            "\n",
            "Statevector([ 0.5+0.j, -0.5+0.j,  0.5+0.j, -0.5+0.j],\n",
            "            dims=(2, 2))\n",
            "\n",
            "\n",
            "       ┌───┐ ░ ┌───┐┌─┐   \n",
            "q26_0: ┤ X ├─░─┤ H ├┤M├───\n",
            "       └───┘ ░ ├───┤└╥┘┌─┐\n",
            "q26_1: ──────░─┤ H ├─╫─┤M├\n",
            "             ░ └───┘ ║ └╥┘\n",
            "c25: 2/══════════════╩══╩═\n",
            "                     0  1 \n"
          ]
        }
      ]
    },
    {
      "cell_type": "markdown",
      "source": [
        "##Lab 2 (24/01/2025)"
      ],
      "metadata": {
        "id": "dnDE8ngAwDgz"
      }
    },
    {
      "cell_type": "markdown",
      "source": [
        "###1. Encrypt last 2nd bit of your id number **(if it is 0 then consider 13)**"
      ],
      "metadata": {
        "id": "abMbOD9NY8Ga"
      }
    },
    {
      "cell_type": "code",
      "source": [
        "q=QuantumRegister(4)\n",
        "c=ClassicalRegister(4)\n",
        "qc=QuantumCircuit(q,c)\n",
        "\n",
        "#12240500 is the roll number so I will enccode 13 in the qubits; 1101\n",
        "\n",
        "qc.x(q[0])\n",
        "qc.x(q[1])\n",
        "qc.x(q[3])\n",
        "\n",
        "print(Statevector(qc))\n",
        "print(\"\\n\")\n",
        "qc.measure(q,c)\n",
        "print(qc.draw())"
      ],
      "metadata": {
        "colab": {
          "base_uri": "https://localhost:8080/"
        },
        "id": "jJEoIG8eY17h",
        "outputId": "706f151b-c2ed-44a0-c943-dcbcb4cf0e4c"
      },
      "execution_count": 40,
      "outputs": [
        {
          "output_type": "stream",
          "name": "stdout",
          "text": [
            "Statevector([0.+0.j, 0.+0.j, 0.+0.j, 0.+0.j, 0.+0.j, 0.+0.j, 0.+0.j,\n",
            "             0.+0.j, 0.+0.j, 0.+0.j, 0.+0.j, 1.+0.j, 0.+0.j, 0.+0.j,\n",
            "             0.+0.j, 0.+0.j],\n",
            "            dims=(2, 2, 2, 2))\n",
            "\n",
            "\n",
            "       ┌───┐   ┌─┐      \n",
            "q27_0: ┤ X ├───┤M├──────\n",
            "       ├───┤   └╥┘┌─┐   \n",
            "q27_1: ┤ X ├────╫─┤M├───\n",
            "       └───┘┌─┐ ║ └╥┘   \n",
            "q27_2: ─────┤M├─╫──╫────\n",
            "       ┌───┐└╥┘ ║  ║ ┌─┐\n",
            "q27_3: ┤ X ├─╫──╫──╫─┤M├\n",
            "       └───┘ ║  ║  ║ └╥┘\n",
            "c26: 4/══════╩══╩══╩══╩═\n",
            "             2  0  1  3 \n"
          ]
        }
      ]
    },
    {
      "cell_type": "markdown",
      "source": [
        "###2. Our qiskit function"
      ],
      "metadata": {
        "id": "TYmS2cv3U6pw"
      }
    },
    {
      "cell_type": "code",
      "source": [
        "def waveform(qc):\n",
        "    state = Statevector(qc)\n",
        "    amplitudes = state.data\n",
        "    num_qubits = state.num_qubits\n",
        "\n",
        "    print(\"Statevector:\")\n",
        "    for i, amplitude in enumerate(amplitudes):\n",
        "        if abs(amplitude) > 0:\n",
        "            print(f\"|{i:0{num_qubits}b}>: {amplitude}\")"
      ],
      "metadata": {
        "id": "95Tq210mU4iY"
      },
      "execution_count": 41,
      "outputs": []
    },
    {
      "cell_type": "markdown",
      "source": [
        "###**3**. Give only non zero vector as output"
      ],
      "metadata": {
        "id": "Xto4nhEmUIvM"
      }
    },
    {
      "cell_type": "code",
      "execution_count": 42,
      "metadata": {
        "colab": {
          "base_uri": "https://localhost:8080/"
        },
        "id": "AyQWWClmvhq2",
        "outputId": "0f373e4b-151d-46e1-9fed-d9532924cbd1"
      },
      "outputs": [
        {
          "output_type": "stream",
          "name": "stdout",
          "text": [
            "Statevector:\n",
            "|1011>: (1+0j)\n",
            "\n",
            "\n",
            "       ┌───┐   ┌─┐      \n",
            "q28_0: ┤ X ├───┤M├──────\n",
            "       ├───┤   └╥┘┌─┐   \n",
            "q28_1: ┤ X ├────╫─┤M├───\n",
            "       └───┘┌─┐ ║ └╥┘   \n",
            "q28_2: ─────┤M├─╫──╫────\n",
            "       ┌───┐└╥┘ ║  ║ ┌─┐\n",
            "q28_3: ┤ X ├─╫──╫──╫─┤M├\n",
            "       └───┘ ║  ║  ║ └╥┘\n",
            "c27: 4/══════╩══╩══╩══╩═\n",
            "             2  0  1  3 \n"
          ]
        }
      ],
      "source": [
        "q = QuantumRegister(4)\n",
        "c = ClassicalRegister(4)\n",
        "qc = QuantumCircuit(q, c)\n",
        "\n",
        "# My ID is 12240500 so I am  Encoding 13 (1101 in binary)\n",
        "qc.x(q[0])\n",
        "qc.x(q[1])\n",
        "qc.x(q[3])\n",
        "\n",
        "waveform(qc)\n",
        "print(\"\\n\")\n",
        "qc.measure(q, c)\n",
        "print(qc.draw())"
      ]
    },
    {
      "cell_type": "markdown",
      "source": [
        "###4. Generalised version"
      ],
      "metadata": {
        "id": "HMfB4LZ4XvzR"
      }
    },
    {
      "cell_type": "code",
      "source": [
        "user_input = \"1101\"\n",
        "# user_input = input(\"Enter a binary string: \")\n",
        "print(f\"You entered: {user_input}\")\n",
        "print(\"\\n\")\n",
        "\n",
        "leng = len(user_input)\n",
        "q = QuantumRegister(leng)\n",
        "c = ClassicalRegister(leng)\n",
        "qc = QuantumCircuit(q, c)\n",
        "\n",
        "for i, char in enumerate(user_input):\n",
        "    if char == '1':\n",
        "        qc.x(q[i])\n",
        "\n",
        "print(\"Complete statevector:\")\n",
        "print(Statevector(qc))\n",
        "print(\"\\n\")\n",
        "\n",
        "waveform(qc)\n",
        "print(\"\\n\")\n",
        "\n",
        "qc.measure(q,c)\n",
        "print(qc.draw())"
      ],
      "metadata": {
        "colab": {
          "base_uri": "https://localhost:8080/"
        },
        "id": "cu-E0iafXug6",
        "outputId": "eb3cbea2-5a35-4965-e2b1-e0ec837715d6"
      },
      "execution_count": 43,
      "outputs": [
        {
          "output_type": "stream",
          "name": "stdout",
          "text": [
            "You entered: 1101\n",
            "\n",
            "\n",
            "Complete statevector:\n",
            "Statevector([0.+0.j, 0.+0.j, 0.+0.j, 0.+0.j, 0.+0.j, 0.+0.j, 0.+0.j,\n",
            "             0.+0.j, 0.+0.j, 0.+0.j, 0.+0.j, 1.+0.j, 0.+0.j, 0.+0.j,\n",
            "             0.+0.j, 0.+0.j],\n",
            "            dims=(2, 2, 2, 2))\n",
            "\n",
            "\n",
            "Statevector:\n",
            "|1011>: (1+0j)\n",
            "\n",
            "\n",
            "       ┌───┐   ┌─┐      \n",
            "q29_0: ┤ X ├───┤M├──────\n",
            "       ├───┤   └╥┘┌─┐   \n",
            "q29_1: ┤ X ├────╫─┤M├───\n",
            "       └───┘┌─┐ ║ └╥┘   \n",
            "q29_2: ─────┤M├─╫──╫────\n",
            "       ┌───┐└╥┘ ║  ║ ┌─┐\n",
            "q29_3: ┤ X ├─╫──╫──╫─┤M├\n",
            "       └───┘ ║  ║  ║ └╥┘\n",
            "c28: 4/══════╩══╩══╩══╩═\n",
            "             2  0  1  3 \n"
          ]
        }
      ]
    },
    {
      "cell_type": "markdown",
      "source": [
        "##Lab 3 (31/01/2025)"
      ],
      "metadata": {
        "id": "GV2IXBqHteIL"
      }
    },
    {
      "cell_type": "markdown",
      "source": [
        "###Q1 Create a 1-qubit system with any superposition and measure the system. Show the statevector before measurement, the final circuit diagram and the measurement counts"
      ],
      "metadata": {
        "id": "Ui41rkjntfC9"
      }
    },
    {
      "cell_type": "code",
      "source": [
        "qubits = 1\n",
        "q = QuantumRegister(qubits)\n",
        "c = ClassicalRegister(qubits)\n",
        "qc = QuantumCircuit(q, c)\n",
        "qc.h(q)\n",
        "\n",
        "# ********************************************\n",
        "\n",
        "print(\"\\nBefore Measurement:\")\n",
        "\n",
        "print(\"\\nState Vector of Quantum Circuit:\")\n",
        "print(Statevector(qc))\n",
        "\n",
        "print(\"\\nQuantum Circuit:\")\n",
        "print(qc.draw())\n",
        "\n",
        "# ********************************************\n",
        "\n",
        "print(\"\\nApplying Measurement:\")\n",
        "\n",
        "qc.measure(q,c)\n",
        "backend = AerSimulator()\n",
        "new_circuit = transpile(qc,backend)\n",
        "result = backend.run(new_circuit).result()\n",
        "counts = result.get_counts(new_circuit)\n",
        "\n",
        "# ********************************************\n",
        "\n",
        "print(\"\\nAfter Measurement:\")\n",
        "\n",
        "print(\"\\nTranspiled Circuit:\")\n",
        "print(new_circuit.draw())\n",
        "\n",
        "print(\"\\nMeasurement Counts:\")\n",
        "print(counts)"
      ],
      "metadata": {
        "colab": {
          "base_uri": "https://localhost:8080/"
        },
        "id": "H_CgdS_1tbOu",
        "outputId": "de383703-42bd-465a-e702-4af700086b32"
      },
      "execution_count": 44,
      "outputs": [
        {
          "output_type": "stream",
          "name": "stdout",
          "text": [
            "\n",
            "Before Measurement:\n",
            "\n",
            "State Vector of Quantum Circuit:\n",
            "Statevector([0.70710678+0.j, 0.70710678+0.j],\n",
            "            dims=(2,))\n",
            "\n",
            "Quantum Circuit:\n",
            "       ┌───┐\n",
            "  q30: ┤ H ├\n",
            "       └───┘\n",
            "c29: 1/═════\n",
            "            \n",
            "\n",
            "Applying Measurement:\n",
            "\n",
            "After Measurement:\n",
            "\n",
            "Transpiled Circuit:\n",
            "       ┌───┐┌─┐\n",
            "  q30: ┤ H ├┤M├\n",
            "       └───┘└╥┘\n",
            "c29: 1/══════╩═\n",
            "             0 \n",
            "\n",
            "Measurement Counts:\n",
            "{'0': 504, '1': 520}\n"
          ]
        }
      ]
    },
    {
      "cell_type": "markdown",
      "source": [
        "###Q2 Create a 1-qubit system with any superposition and measure the system with two or three different number of shots. For each of these measurements, show the statevector before measurement, the final circuitdiagram and the measurement counts"
      ],
      "metadata": {
        "id": "8QcECIYFtnkG"
      }
    },
    {
      "cell_type": "code",
      "source": [
        "qubits = 1\n",
        "q = QuantumRegister(qubits)\n",
        "c = ClassicalRegister(qubits)\n",
        "qc = QuantumCircuit(q, c)\n",
        "qc.h(q[0])\n",
        "\n",
        "# ****************************************************************************************************\n",
        "\n",
        "print(\"\\nBefore Measurement:\")\n",
        "\n",
        "print(\"\\nState Vector of Quantum Circuit:\")\n",
        "print(Statevector(qc))\n",
        "\n",
        "print(\"\\nQuantum Circuit:\")\n",
        "print(qc.draw())\n",
        "\n",
        "# ****************************************************************************************************\n",
        "\n",
        "print(\"\\nApplying Measurement:\")\n",
        "\n",
        "# numShots = int(input(\"\\nNumber of Shots (User Input): \"))\n",
        "numShots = 3\n",
        "qc.measure(q,c)\n",
        "backend = AerSimulator()\n",
        "new_circuit = transpile(qc,backend)\n",
        "result = backend.run(new_circuit, shots=numShots).result()\n",
        "counts = result.get_counts(new_circuit)\n",
        "\n",
        "# ****************************************************************************************************\n",
        "\n",
        "print(\"\\nAfter Measurement:\")\n",
        "\n",
        "print(\"\\nTranspiled Circuit:\")\n",
        "print(new_circuit.draw())\n",
        "\n",
        "print(\"\\nMeasurement Counts:\")\n",
        "print(counts)"
      ],
      "metadata": {
        "colab": {
          "base_uri": "https://localhost:8080/"
        },
        "id": "ffLIpuzbtxF9",
        "outputId": "c055a227-b3f0-4c06-932f-df184f181f81"
      },
      "execution_count": 45,
      "outputs": [
        {
          "output_type": "stream",
          "name": "stdout",
          "text": [
            "\n",
            "Before Measurement:\n",
            "\n",
            "State Vector of Quantum Circuit:\n",
            "Statevector([0.70710678+0.j, 0.70710678+0.j],\n",
            "            dims=(2,))\n",
            "\n",
            "Quantum Circuit:\n",
            "       ┌───┐\n",
            "  q31: ┤ H ├\n",
            "       └───┘\n",
            "c30: 1/═════\n",
            "            \n",
            "\n",
            "Applying Measurement:\n",
            "\n",
            "After Measurement:\n",
            "\n",
            "Transpiled Circuit:\n",
            "       ┌───┐┌─┐\n",
            "  q31: ┤ H ├┤M├\n",
            "       └───┘└╥┘\n",
            "c30: 1/══════╩═\n",
            "             0 \n",
            "\n",
            "Measurement Counts:\n",
            "{'1': 1, '0': 2}\n"
          ]
        }
      ]
    },
    {
      "cell_type": "markdown",
      "source": [
        "###Q3 Create a 2-qubit system and apply Hadamard gate on both qubits and measure the system with two or three different number of shots. For each of these measurements, show the statevector before measurement, the final circuitdiagram and the measurement counts"
      ],
      "metadata": {
        "id": "ViflVN9GvmxH"
      }
    },
    {
      "cell_type": "code",
      "source": [
        "qubits = 2\n",
        "q = QuantumRegister(qubits)\n",
        "c = ClassicalRegister(qubits)\n",
        "qc = QuantumCircuit(q, c)\n",
        "qc.h(q)\n",
        "\n",
        "# ****************************************************************************************************\n",
        "\n",
        "print(\"\\nBefore Measurement:\")\n",
        "\n",
        "print(\"\\nState Vector of Quantum Circuit:\")\n",
        "print(Statevector(qc))\n",
        "\n",
        "print(\"\\nQuantum Circuit:\")\n",
        "print(qc.draw())\n",
        "\n",
        "# ****************************************************************************************************\n",
        "\n",
        "print(\"\\nApplying Measurement:\")\n",
        "\n",
        "# numShots = int(input(\"\\nNumber of Shots (User Input): \"))\n",
        "numShots=3\n",
        "qc.measure(q,c)\n",
        "backend = AerSimulator()\n",
        "new_circuit = transpile(qc,backend)\n",
        "result = backend.run(new_circuit, shots=numShots).result()\n",
        "counts = result.get_counts(new_circuit)\n",
        "\n",
        "# ****************************************************************************************************\n",
        "\n",
        "print(\"\\nAfter Measurement:\")\n",
        "\n",
        "print(\"\\nTranspiled Circuit:\")\n",
        "print(new_circuit.draw())\n",
        "\n",
        "print(\"\\nMeasurement Counts:\")\n",
        "print(counts)"
      ],
      "metadata": {
        "colab": {
          "base_uri": "https://localhost:8080/"
        },
        "id": "MdN653DBvoA4",
        "outputId": "b6ae3a4a-83b9-4d4e-bdc3-de6d457fb9d4"
      },
      "execution_count": 46,
      "outputs": [
        {
          "output_type": "stream",
          "name": "stdout",
          "text": [
            "\n",
            "Before Measurement:\n",
            "\n",
            "State Vector of Quantum Circuit:\n",
            "Statevector([0.5+0.j, 0.5+0.j, 0.5+0.j, 0.5+0.j],\n",
            "            dims=(2, 2))\n",
            "\n",
            "Quantum Circuit:\n",
            "       ┌───┐\n",
            "q32_0: ┤ H ├\n",
            "       ├───┤\n",
            "q32_1: ┤ H ├\n",
            "       └───┘\n",
            "c31: 2/═════\n",
            "            \n",
            "\n",
            "Applying Measurement:\n",
            "\n",
            "After Measurement:\n",
            "\n",
            "Transpiled Circuit:\n",
            "       ┌───┐┌─┐   \n",
            "q32_0: ┤ H ├┤M├───\n",
            "       ├───┤└╥┘┌─┐\n",
            "q32_1: ┤ H ├─╫─┤M├\n",
            "       └───┘ ║ └╥┘\n",
            "c31: 2/══════╩══╩═\n",
            "             0  1 \n",
            "\n",
            "Measurement Counts:\n",
            "{'11': 1, '00': 2}\n"
          ]
        }
      ]
    },
    {
      "cell_type": "markdown",
      "source": [
        "###Q4 Use the tools at your disposal to simulate a quantum coin flip. Display the circuit diagram that achieves this coin flip and explain how it makes sense as comments in your code."
      ],
      "metadata": {
        "id": "Khly35nm7N9m"
      }
    },
    {
      "cell_type": "code",
      "source": [
        "# define a quantum register for 1 qubit (representing the coin side, head or tail)\n",
        "qubits = 1\n",
        "q = QuantumRegister(qubits)\n",
        "\n",
        "# define a classical register to store the result of the measurement\n",
        "c = ClassicalRegister(qubits)\n",
        "\n",
        "# create a quantum circuit using the quantum and classical registers\n",
        "qc = QuantumCircuit(q, c)\n",
        "\n",
        "# apply a hadamard gate to create an equal superposition (50% head, 50% tail)\n",
        "qc.h(q)\n",
        "\n",
        "# ****************************************************************************************************\n",
        "\n",
        "# before measurement, show the statevector (quantum state) of the circuit\n",
        "print(\"\\nBefore Measurement:\")\n",
        "\n",
        "# display the state vector (quantum state of the system)\n",
        "print(\"\\nState Vector of Quantum Circuit:\")\n",
        "print(Statevector(qc))\n",
        "\n",
        "# display the quantum circuit diagram before measurement\n",
        "print(\"\\nQuantum Circuit:\")\n",
        "print(qc.draw())\n",
        "\n",
        "# ****************************************************************************************************\n",
        "\n",
        "# applying measurement to collapse the state (from superposition to one of the two outcomes)\n",
        "print(\"\\nApplying Measurement:\")\n",
        "\n",
        "# define the number of shots, only one flip is needed for the result\n",
        "numShots = 1\n",
        "\n",
        "# measure the quantum register into the classical register\n",
        "qc.measure(q, c)\n",
        "\n",
        "# initialize the simulator backend\n",
        "backend = AerSimulator()\n",
        "\n",
        "# transpile the quantum circuit to optimize it for the backend\n",
        "new_circuit = transpile(qc, backend)\n",
        "\n",
        "# execute the circuit on the simulator with the defined number of shots (1 flip)\n",
        "result = backend.run(new_circuit, shots=numShots).result()\n",
        "\n",
        "# get the counts (frequency distribution of head and tail)\n",
        "counts = result.get_counts(new_circuit)\n",
        "\n",
        "# ****************************************************************************************************\n",
        "\n",
        "# after measurement, display the transpiled circuit and the measurement results\n",
        "print(\"\\nAfter Measurement:\")\n",
        "\n",
        "# display the transpiled quantum circuit\n",
        "print(\"\\nTranspiled Circuit:\")\n",
        "print(new_circuit.draw())\n",
        "\n",
        "# display the measurement counts (how many times head or tail occurred)\n",
        "print(\"\\nMeasurement Counts (Heads = '0', Tails = '1'):\")\n",
        "print(counts)\n",
        "\n",
        "# determine and print whether the result is head or tail\n",
        "if '0' in counts:\n",
        "    print(\"\\nCoin Flip Result: Head\")\n",
        "else:\n",
        "    print(\"\\nCoin Flip Result: Tail\")\n"
      ],
      "metadata": {
        "colab": {
          "base_uri": "https://localhost:8080/"
        },
        "id": "hTCJHMEd0pL5",
        "outputId": "de744068-aa37-4862-dc48-07d96b5fa3b1"
      },
      "execution_count": 47,
      "outputs": [
        {
          "output_type": "stream",
          "name": "stdout",
          "text": [
            "\n",
            "Before Measurement:\n",
            "\n",
            "State Vector of Quantum Circuit:\n",
            "Statevector([0.70710678+0.j, 0.70710678+0.j],\n",
            "            dims=(2,))\n",
            "\n",
            "Quantum Circuit:\n",
            "       ┌───┐\n",
            "  q33: ┤ H ├\n",
            "       └───┘\n",
            "c32: 1/═════\n",
            "            \n",
            "\n",
            "Applying Measurement:\n",
            "\n",
            "After Measurement:\n",
            "\n",
            "Transpiled Circuit:\n",
            "       ┌───┐┌─┐\n",
            "  q33: ┤ H ├┤M├\n",
            "       └───┘└╥┘\n",
            "c32: 1/══════╩═\n",
            "             0 \n",
            "\n",
            "Measurement Counts (Heads = '0', Tails = '1'):\n",
            "{'1': 1}\n",
            "\n",
            "Coin Flip Result: Tail\n"
          ]
        }
      ]
    },
    {
      "cell_type": "markdown",
      "source": [
        "###Q5"
      ],
      "metadata": {
        "id": "znwFsqpg7TAU"
      }
    },
    {
      "cell_type": "markdown",
      "source": [
        "####Part 1. Create a 1-qubit system and apply any gate to it. Show the statevector before measurement. It is sufficient to measure the system with only 1 shot this time. After printing the counts of the measurement, try printing the statevector in the same way."
      ],
      "metadata": {
        "id": "T2QahMpz8SSt"
      }
    },
    {
      "cell_type": "code",
      "source": [
        "qubits = 2\n",
        "q = QuantumRegister(qubits)\n",
        "c = ClassicalRegister(qubits)\n",
        "qc = QuantumCircuit(q, c)\n",
        "\n",
        "qc.x(q[0])\n",
        "qc.save_statevector('psi1')\n",
        "\n",
        "qc.h(q)\n",
        "qc.save_statevector('psi2')\n",
        "\n",
        "qc.x(q[1])\n",
        "qc.save_statevector('psi3')\n",
        "\n",
        "# ****************************************************************************************************\n",
        "\n",
        "print(\"\\nBefore Measurement:\")\n",
        "\n",
        "backend = AerSimulator()\n",
        "new_circuit = transpile(qc, backend)\n",
        "result = backend.run(new_circuit).result()\n",
        "\n",
        "psi1 = result.data()['psi1']\n",
        "psi2 = result.data()['psi2']\n",
        "psi3 = result.data()['psi3']\n",
        "\n",
        "print(\"\\nQuantum Circuit:\")\n",
        "print(qc.draw())\n",
        "\n",
        "# ****************************************************************************************************\n",
        "\n",
        "qc.measure(q, c)\n",
        "result = backend.run(new_circuit, shots=1).result()\n",
        "counts = result.get_counts(new_circuit)\n",
        "\n",
        "# ****************************************************************************************************\n",
        "\n",
        "print(\"\\nAfter Measurement:\")\n",
        "\n",
        "print(\"\\nTranspiled Circuit after Measurement:\")\n",
        "print(qc.draw())\n",
        "\n",
        "print(\"\\nMeasurement Counts:\")\n",
        "print(counts)\n",
        "\n",
        "# ****************************************************************************************************\n",
        "\n",
        "print(\"\\nCircuit Slicing:\")\n",
        "\n",
        "print(\"\\nState Vector at psi1:\")\n",
        "print(psi1)\n",
        "\n",
        "print(\"\\nState Vector at psi2:\")\n",
        "print(psi2)\n",
        "\n",
        "print(\"\\nState Vector at psi3:\")\n",
        "print(psi3)"
      ],
      "metadata": {
        "colab": {
          "base_uri": "https://localhost:8080/"
        },
        "id": "dcgTyG-d7bZN",
        "outputId": "8050d5e8-2479-47cd-c862-c8c96583aebd"
      },
      "execution_count": 48,
      "outputs": [
        {
          "output_type": "stream",
          "name": "stdout",
          "text": [
            "\n",
            "Before Measurement:\n",
            "\n",
            "Quantum Circuit:\n",
            "       ┌───┐ psi1 ┌───┐ psi2       psi3 \n",
            "q34_0: ┤ X ├──░───┤ H ├──░──────────░───\n",
            "       └───┘  ░   ├───┤  ░   ┌───┐  ░   \n",
            "q34_1: ───────░───┤ H ├──░───┤ X ├──░───\n",
            "              ░   └───┘  ░   └───┘  ░   \n",
            "c33: 2/═════════════════════════════════\n",
            "                                        \n",
            "\n",
            "After Measurement:\n",
            "\n",
            "Transpiled Circuit after Measurement:\n",
            "       ┌───┐ psi1 ┌───┐ psi2       psi3 ┌─┐   \n",
            "q34_0: ┤ X ├──░───┤ H ├──░──────────░───┤M├───\n",
            "       └───┘  ░   ├───┤  ░   ┌───┐  ░   └╥┘┌─┐\n",
            "q34_1: ───────░───┤ H ├──░───┤ X ├──░────╫─┤M├\n",
            "              ░   └───┘  ░   └───┘  ░    ║ └╥┘\n",
            "c33: 2/══════════════════════════════════╩══╩═\n",
            "                                         0  1 \n",
            "\n",
            "Measurement Counts:\n",
            "{'00': 1}\n",
            "\n",
            "Circuit Slicing:\n",
            "\n",
            "State Vector at psi1:\n",
            "Statevector([0.+0.j, 1.+0.j, 0.+0.j, 0.+0.j],\n",
            "            dims=(2, 2))\n",
            "\n",
            "State Vector at psi2:\n",
            "Statevector([ 0.5-6.123234e-17j, -0.5+6.123234e-17j,  0.5-6.123234e-17j,\n",
            "             -0.5+6.123234e-17j],\n",
            "            dims=(2, 2))\n",
            "\n",
            "State Vector at psi3:\n",
            "Statevector([ 0.5-6.123234e-17j, -0.5+6.123234e-17j,  0.5-6.123234e-17j,\n",
            "             -0.5+6.123234e-17j],\n",
            "            dims=(2, 2))\n"
          ]
        }
      ]
    },
    {
      "cell_type": "markdown",
      "source": [
        "####Part 2 Create a 2-qubit system and apply the NOT gate on the top qubit. Save this point as ’psi1’. This object can be passed as input to your waveform function to display the statevector. Now, apply Hadamard gates on both the qubits. Save this point as ’psi2’ and print this statevector as well. Finally, apply the NOT gate on the second qubit and save this final state as ’psi3’. Display this statevector as well and finally draw the circuit diagram to visualise circuit slicing."
      ],
      "metadata": {
        "id": "5FxT173C7-Si"
      }
    },
    {
      "cell_type": "markdown",
      "source": [
        "###Q6 Follow the exact same procedure given in the last question, but make a measurement after ’psi3’ (use 1 shot only). After the measurement, save the new statevector as ’psi4’. Display this final statevector along with the circuit diagram. As comments in your code, explain why this final statevector is different from the rest."
      ],
      "metadata": {
        "id": "ZK4zoCv570hu"
      }
    },
    {
      "cell_type": "code",
      "source": [
        "qubits = 2\n",
        "q = QuantumRegister(qubits)\n",
        "c = ClassicalRegister(qubits)\n",
        "qc = QuantumCircuit(q, c)\n",
        "\n",
        "qc.x(q[0])\n",
        "qc.save_statevector('psi1')\n",
        "\n",
        "qc.h(q)\n",
        "qc.save_statevector('psi2')\n",
        "\n",
        "qc.x(q[1])\n",
        "qc.save_statevector('psi3')\n",
        "\n",
        "# ****************************************************************************************************\n",
        "\n",
        "print(\"\\nBefore Measurement:\")\n",
        "\n",
        "print(\"\\nQuantum Circuit:\")\n",
        "print(qc.draw())\n",
        "\n",
        "# ****************************************************************************************************\n",
        "\n",
        "qc.measure(q, c)\n",
        "backend = AerSimulator()\n",
        "qc.save_statevector('psi4')\n",
        "new_circuit = transpile(qc, backend)\n",
        "result = backend.run(new_circuit, shots=1).result()\n",
        "counts = result.get_counts(new_circuit)\n",
        "\n",
        "psi1 = result.data()['psi1']\n",
        "psi2 = result.data()['psi2']\n",
        "psi3 = result.data()['psi3']\n",
        "psi4 = result.data()['psi4']\n",
        "\n",
        "# ****************************************************************************************************\n",
        "\n",
        "print(\"\\nAfter Measurement:\")\n",
        "\n",
        "print(\"\\nTranspiled Circuit:\")\n",
        "print(qc.draw())\n",
        "\n",
        "print(\"\\nMeasurement Counts:\")\n",
        "print(counts)\n",
        "\n",
        "# ****************************************************************************************************\n",
        "\n",
        "print(\"\\nCircuit Slicing:\")\n",
        "\n",
        "print(\"\\nState Vector at psi1:\")\n",
        "print(psi1)\n",
        "\n",
        "print(\"\\nState Vector at psi2:\")\n",
        "print(psi2)\n",
        "\n",
        "print(\"\\nState Vector at psi3:\")\n",
        "print(psi3)\n",
        "\n",
        "print(\"\\nState Vector at psi4:\")\n",
        "print(psi4)\n",
        "\n",
        "# psi4 is the statevector after measurement\n",
        "# we see the collapsing of a quantum state to a classical state\n",
        "# thus, psi4 represents a classical state\n",
        "# which means that it will not be a superposition of states\n",
        "# but will have a nonzero value at only one position in the statevector\n",
        "# thereby representing a single classical state\n"
      ],
      "metadata": {
        "colab": {
          "base_uri": "https://localhost:8080/"
        },
        "id": "SgYa6QbIP2oG",
        "outputId": "d6de6162-477d-494e-b5a5-91a92fc72892"
      },
      "execution_count": 49,
      "outputs": [
        {
          "output_type": "stream",
          "name": "stdout",
          "text": [
            "\n",
            "Before Measurement:\n",
            "\n",
            "Quantum Circuit:\n",
            "       ┌───┐ psi1 ┌───┐ psi2       psi3 \n",
            "q35_0: ┤ X ├──░───┤ H ├──░──────────░───\n",
            "       └───┘  ░   ├───┤  ░   ┌───┐  ░   \n",
            "q35_1: ───────░───┤ H ├──░───┤ X ├──░───\n",
            "              ░   └───┘  ░   └───┘  ░   \n",
            "c34: 2/═════════════════════════════════\n",
            "                                        \n",
            "\n",
            "After Measurement:\n",
            "\n",
            "Transpiled Circuit:\n",
            "       ┌───┐ psi1 ┌───┐ psi2       psi3 ┌─┐    psi4 \n",
            "q35_0: ┤ X ├──░───┤ H ├──░──────────░───┤M├─────░───\n",
            "       └───┘  ░   ├───┤  ░   ┌───┐  ░   └╥┘┌─┐  ░   \n",
            "q35_1: ───────░───┤ H ├──░───┤ X ├──░────╫─┤M├──░───\n",
            "              ░   └───┘  ░   └───┘  ░    ║ └╥┘  ░   \n",
            "c34: 2/══════════════════════════════════╩══╩═══════\n",
            "                                         0  1       \n",
            "\n",
            "Measurement Counts:\n",
            "{'10': 1}\n",
            "\n",
            "Circuit Slicing:\n",
            "\n",
            "State Vector at psi1:\n",
            "Statevector([0.+0.j, 1.+0.j, 0.+0.j, 0.+0.j],\n",
            "            dims=(2, 2))\n",
            "\n",
            "State Vector at psi2:\n",
            "Statevector([ 0.5-6.123234e-17j, -0.5+6.123234e-17j,  0.5-6.123234e-17j,\n",
            "             -0.5+6.123234e-17j],\n",
            "            dims=(2, 2))\n",
            "\n",
            "State Vector at psi3:\n",
            "Statevector([ 0.5-6.123234e-17j, -0.5+6.123234e-17j,  0.5-6.123234e-17j,\n",
            "             -0.5+6.123234e-17j],\n",
            "            dims=(2, 2))\n",
            "\n",
            "State Vector at psi4:\n",
            "Statevector([ 0.+0.0000000e+00j, -0.+0.0000000e+00j,  1.-1.2246468e-16j,\n",
            "             -0.+0.0000000e+00j],\n",
            "            dims=(2, 2))\n"
          ]
        }
      ]
    },
    {
      "cell_type": "markdown",
      "source": [
        "##Lab 4 (07/01/2025)"
      ],
      "metadata": {
        "id": "pvJLz-Tz10eZ"
      }
    },
    {
      "cell_type": "markdown",
      "source": [
        "### Q1 Create a 2-qubit system and initialize it to any random superposition using the random_statevector function. Display the statevector of the quantum system after initialization. Apply the CNOT gates twice in succession. Display the statevector of the quantum system again and show that it is the same as earlier. Also show the circuit diagram with barriers at appropriate places for clarity."
      ],
      "metadata": {
        "id": "uxsOSa-C12o1"
      }
    },
    {
      "cell_type": "code",
      "source": [
        "qc = QuantumCircuit(2)\n",
        "random_state = random_statevector(4)\n",
        "qc.initialize(random_state, [0, 1])\n",
        "\n",
        "print(\"Initial statevector\\n\")\n",
        "waveform(qc)\n",
        "print(\"\\n\")\n",
        "\n",
        "qc.barrier()\n",
        "qc.cx(0, 1)  # First CNOT gate\n",
        "qc.cx(0, 1)  # Second CNOT gate\n",
        "qc.barrier()\n",
        "\n",
        "print(\"The statevector after applying the CNOT gate twice \\n\")\n",
        "waveform(qc)\n",
        "print(\"\\n\")\n",
        "\n",
        "print(qc.draw())"
      ],
      "metadata": {
        "colab": {
          "base_uri": "https://localhost:8080/"
        },
        "id": "pesZoHbV2CUU",
        "outputId": "d875b0fb-9646-48c3-8666-16a140f316a8"
      },
      "execution_count": 50,
      "outputs": [
        {
          "output_type": "stream",
          "name": "stdout",
          "text": [
            "Initial statevector\n",
            "\n",
            "Statevector:\n",
            "|00>: (-0.13301307153631983+0.0005557943056989243j)\n",
            "|01>: (-0.15715791202277965+0.20586810568677721j)\n",
            "|10>: (0.5742919582697638-0.41943803104610433j)\n",
            "|11>: (-0.008142838269638113-0.6398602242728512j)\n",
            "\n",
            "\n",
            "The statevector after applying the CNOT gate twice \n",
            "\n",
            "Statevector:\n",
            "|00>: (-0.13301307153631983+0.0005557943056989243j)\n",
            "|01>: (-0.15715791202277965+0.20586810568677721j)\n",
            "|10>: (0.5742919582697638-0.41943803104610433j)\n",
            "|11>: (-0.008142838269638113-0.6398602242728512j)\n",
            "\n",
            "\n",
            "     »\n",
            "q_0: »\n",
            "     »\n",
            "q_1: »\n",
            "     »\n",
            "«     ┌──────────────────────────────────────────────────────────────────────────────────────────┐»\n",
            "«q_0: ┤0                                                                                         ├»\n",
            "«     │  Initialize(-0.13301+0.00055579j,-0.15716+0.20587j,0.57429-0.41944j,-0.0081428-0.63986j) │»\n",
            "«q_1: ┤1                                                                                         ├»\n",
            "«     └──────────────────────────────────────────────────────────────────────────────────────────┘»\n",
            "«      ░            ░ \n",
            "«q_0: ─░───■────■───░─\n",
            "«      ░ ┌─┴─┐┌─┴─┐ ░ \n",
            "«q_1: ─░─┤ X ├┤ X ├─░─\n",
            "«      ░ └───┘└───┘ ░ \n"
          ]
        }
      ]
    },
    {
      "cell_type": "markdown",
      "source": [
        "###Q2 Create two 2-qubit systems and initialize both of them to the same randomly generated state. On one of the 2-qubit systems, apply the quantum gates as per the circuit diagram on the left and on the other 2-qubit system, apply the quantum gates as per the circuit diagram on the right. Show that both these circuits are equivalent by displaying the final statevector for each. Also show the circuit diagram with barriers at appropriate places for clarity.\n",
        "\n",
        "![image.png](data:image/png;base64,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)"
      ],
      "metadata": {
        "id": "A6yWV1pK2Gqs"
      }
    },
    {
      "cell_type": "code",
      "source": [
        "qc=QuantumCircuit(2)\n",
        "\n",
        "random_state = random_statevector(4)\n",
        "qc.initialize(random_state, [0, 1])\n",
        "\n",
        "qc.barrier()\n",
        "qc.h(0)\n",
        "qc.h(1)\n",
        "qc.barrier()\n",
        "qc.cx(0, 1)\n",
        "qc.barrier()\n",
        "qc.h(0)\n",
        "qc.h(1)\n",
        "qc.barrier()\n",
        "\n",
        "print(\"First Statevector\")\n",
        "waveform(qc)\n",
        "print(\"\\n\")\n",
        "print(qc.draw())\n",
        "\n",
        "nqc=QuantumCircuit(2)\n",
        "nqc.initialize(random_state, [0, 1])\n",
        "\n",
        "nqc.cx(1, 0)\n",
        "\n",
        "print(\"\\n\")\n",
        "print(\"Second Statevector\")\n",
        "waveform(nqc)\n",
        "print(\"\\n\")\n",
        "print(nqc.draw())"
      ],
      "metadata": {
        "colab": {
          "base_uri": "https://localhost:8080/"
        },
        "id": "Yz_AdPyD2NhP",
        "outputId": "4bd698e3-13c2-472a-f9ba-0e789501959c"
      },
      "execution_count": 51,
      "outputs": [
        {
          "output_type": "stream",
          "name": "stdout",
          "text": [
            "First Statevector\n",
            "Statevector:\n",
            "|00>: (0.0011319378925137835+0.5746656928043474j)\n",
            "|01>: (-0.021662591852044197-0.6397284876770959j)\n",
            "|10>: (0.08632341914056113-0.044044525304244526j)\n",
            "|11>: (0.48634791725777526+0.11878680430319026j)\n",
            "\n",
            "\n",
            "     »\n",
            "q_0: »\n",
            "     »\n",
            "q_1: »\n",
            "     »\n",
            "«     ┌────────────────────────────────────────────────────────────────────────────────────────┐»\n",
            "«q_0: ┤0                                                                                       ├»\n",
            "«     │  Initialize(0.0011319+0.57467j,-0.021663-0.63973j,0.48635+0.11879j,0.086323-0.044045j) │»\n",
            "«q_1: ┤1                                                                                       ├»\n",
            "«     └────────────────────────────────────────────────────────────────────────────────────────┘»\n",
            "«      ░ ┌───┐ ░       ░ ┌───┐ ░ \n",
            "«q_0: ─░─┤ H ├─░───■───░─┤ H ├─░─\n",
            "«      ░ ├───┤ ░ ┌─┴─┐ ░ ├───┤ ░ \n",
            "«q_1: ─░─┤ H ├─░─┤ X ├─░─┤ H ├─░─\n",
            "«      ░ └───┘ ░ └───┘ ░ └───┘ ░ \n",
            "\n",
            "\n",
            "Second Statevector\n",
            "Statevector:\n",
            "|00>: (0.0011319378925137627+0.5746656928043476j)\n",
            "|01>: (-0.021662591852044197-0.6397284876770962j)\n",
            "|10>: (0.08632341914056123-0.044044525304244526j)\n",
            "|11>: (0.4863479172577755+0.11878680430319032j)\n",
            "\n",
            "\n",
            "     »\n",
            "q_0: »\n",
            "     »\n",
            "q_1: »\n",
            "     »\n",
            "«     ┌────────────────────────────────────────────────────────────────────────────────────────┐»\n",
            "«q_0: ┤0                                                                                       ├»\n",
            "«     │  Initialize(0.0011319+0.57467j,-0.021663-0.63973j,0.48635+0.11879j,0.086323-0.044045j) │»\n",
            "«q_1: ┤1                                                                                       ├»\n",
            "«     └────────────────────────────────────────────────────────────────────────────────────────┘»\n",
            "«     ┌───┐\n",
            "«q_0: ┤ X ├\n",
            "«     └─┬─┘\n",
            "«q_1: ──■──\n",
            "«          \n"
          ]
        }
      ]
    },
    {
      "cell_type": "markdown",
      "source": [
        "###Q3"
      ],
      "metadata": {
        "id": "zcey6KNn7aW3"
      }
    },
    {
      "cell_type": "code",
      "source": [
        "qc=QuantumCircuit(2)\n",
        "\n",
        "waveform(qc)\n",
        "print(\"\\n\")\n",
        "\n",
        "qc.h(0)\n",
        "qc.barrier()\n",
        "\n",
        "waveform(qc)\n",
        "print(\"\\n\")\n",
        "\n",
        "# Step 3: Apply CNOT gate to entangle the qubits\n",
        "qc.cx(0, 1)\n",
        "qc.barrier()\n",
        "\n",
        "waveform(qc)\n",
        "print(\"\\n\")\n",
        "print(qc.draw())\n",
        "\n"
      ],
      "metadata": {
        "id": "WEAunhGzJ1wJ",
        "colab": {
          "base_uri": "https://localhost:8080/"
        },
        "outputId": "2756fdb7-ec01-45e4-a43d-514ffc192efc"
      },
      "execution_count": 52,
      "outputs": [
        {
          "output_type": "stream",
          "name": "stdout",
          "text": [
            "Statevector:\n",
            "|00>: (1+0j)\n",
            "\n",
            "\n",
            "Statevector:\n",
            "|00>: (0.7071067811865475+0j)\n",
            "|01>: (0.7071067811865475+0j)\n",
            "\n",
            "\n",
            "Statevector:\n",
            "|00>: (0.7071067811865475+0j)\n",
            "|11>: (0.7071067811865475+0j)\n",
            "\n",
            "\n",
            "     ┌───┐ ░       ░ \n",
            "q_0: ┤ H ├─░───■───░─\n",
            "     └───┘ ░ ┌─┴─┐ ░ \n",
            "q_1: ──────░─┤ X ├─░─\n",
            "           ░ └───┘ ░ \n"
          ]
        }
      ]
    },
    {
      "cell_type": "markdown",
      "source": [
        "###Q4 Using the Toffoli gate, you need to create a fanout of values as shown in class. Show the circuit diagram with approporiately placed barriers and explain the fanout by analyzing the statevectors\n",
        "![image.png](data:image/png;base64,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)"
      ],
      "metadata": {
        "id": "rqjy700n7c2t"
      }
    },
    {
      "cell_type": "code",
      "source": [
        "from qiskit import QuantumCircuit, transpile, ClassicalRegister, QuantumRegister\n",
        "from qiskit_aer import Aer\n",
        "from qiskit.quantum_info import random_statevector, Statevector\n",
        "\n",
        "qc=QuantumCircuit(3)\n",
        "\n",
        "print(Statevector(qc))\n",
        "print(\"\\n\")\n",
        "\n",
        "qc.x(0)\n",
        "qc.barrier()\n",
        "qc.ccx(0, 1, 2)\n",
        "qc.barrier()\n",
        "\n",
        "print(Statevector(qc))\n",
        "print(\"\\n\")\n",
        "print(qc.draw())"
      ],
      "metadata": {
        "colab": {
          "base_uri": "https://localhost:8080/"
        },
        "id": "mkkwY2Ea70cR",
        "outputId": "69522581-72c5-40d2-8f38-79cbbfe2190c"
      },
      "execution_count": 53,
      "outputs": [
        {
          "output_type": "stream",
          "name": "stdout",
          "text": [
            "Statevector([1.+0.j, 0.+0.j, 0.+0.j, 0.+0.j, 0.+0.j, 0.+0.j, 0.+0.j,\n",
            "             0.+0.j],\n",
            "            dims=(2, 2, 2))\n",
            "\n",
            "\n",
            "Statevector([0.+0.j, 1.+0.j, 0.+0.j, 0.+0.j, 0.+0.j, 0.+0.j, 0.+0.j,\n",
            "             0.+0.j],\n",
            "            dims=(2, 2, 2))\n",
            "\n",
            "\n",
            "     ┌───┐ ░       ░ \n",
            "q_0: ┤ X ├─░───■───░─\n",
            "     └───┘ ░   │   ░ \n",
            "q_1: ──────░───■───░─\n",
            "           ░ ┌─┴─┐ ░ \n",
            "q_2: ──────░─┤ X ├─░─\n",
            "           ░ └───┘ ░ \n"
          ]
        }
      ]
    },
    {
      "cell_type": "markdown",
      "source": [
        "###Q5 Your code should take the value of x as input from the user. You then need to apply the NOT gate (specifically using the Toffoli gate only) and extract the result from the statevector and output ¬x to the user. Show the circuit diagram with approporiately placed barriers.\n",
        "\n",
        "\n",
        "\n",
        "![image.png](data:image/png;base64,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)"
      ],
      "metadata": {
        "id": "n0ZVEHlz-wKB"
      }
    },
    {
      "cell_type": "code",
      "source": [
        "from qiskit import QuantumCircuit, transpile, ClassicalRegister, QuantumRegister\n",
        "from qiskit_aer import Aer\n",
        "from qiskit.quantum_info import random_statevector, Statevector\n",
        "\n",
        "qc=QuantumCircuit(3)\n",
        "\n",
        "# initial_state = int(input(\"Enter initial state for the first qubit (0 or 1): \"))\n",
        "initial_state = 1\n",
        "print(\"\\n\")\n",
        "qc.x(0)\n",
        "qc.x(1)\n",
        "\n",
        "if initial_state == 1:\n",
        "    qc.x(2)\n",
        "\n",
        "qc.barrier()\n",
        "qc.ccx(0, 1, 2)\n",
        "qc.barrier()\n",
        "\n",
        "print(Statevector(qc))\n",
        "print(\"\\n\")\n",
        "print(qc.draw())"
      ],
      "metadata": {
        "colab": {
          "base_uri": "https://localhost:8080/"
        },
        "id": "rZxF4ALe-xtZ",
        "outputId": "fadc0ee8-114a-4710-aa38-3097838b52b1"
      },
      "execution_count": 54,
      "outputs": [
        {
          "output_type": "stream",
          "name": "stdout",
          "text": [
            "\n",
            "\n",
            "Statevector([0.+0.j, 0.+0.j, 0.+0.j, 1.+0.j, 0.+0.j, 0.+0.j, 0.+0.j,\n",
            "             0.+0.j],\n",
            "            dims=(2, 2, 2))\n",
            "\n",
            "\n",
            "     ┌───┐ ░       ░ \n",
            "q_0: ┤ X ├─░───■───░─\n",
            "     ├───┤ ░   │   ░ \n",
            "q_1: ┤ X ├─░───■───░─\n",
            "     ├───┤ ░ ┌─┴─┐ ░ \n",
            "q_2: ┤ X ├─░─┤ X ├─░─\n",
            "     └───┘ ░ └───┘ ░ \n"
          ]
        }
      ]
    },
    {
      "cell_type": "markdown",
      "source": [
        "###Q6 Your code should take three inputs from the user, the value of x, the value of y and the operation to be performed (AND or OR). You then need to apply the required gate using the Toffoli gate and then extract the result from the statevector and report x < op > y as output to the user. Show the circuit diagram with appropriately placed barriers."
      ],
      "metadata": {
        "id": "T0L5E0xiTIZl"
      }
    },
    {
      "cell_type": "code",
      "source": [
        "# a = int(input(\"Enter the value of a: \"))\n",
        "# b = int(input(\"Enter the value of b: \"))\n",
        "x=1\n",
        "y=0\n",
        "# operation = input(\"Enter operation (AND/OR): \").strip().upper()\n",
        "operation = \"AND\"\n",
        "print(\"\\n\")\n",
        "\n",
        "qc = QuantumCircuit(3)\n",
        "waveform(qc)\n",
        "print(\"\\n\")\n",
        "\n",
        "if x == 1:\n",
        "    qc.x(0)\n",
        "if y == 1:\n",
        "    qc.x(1)\n",
        "\n",
        "if operation == \"AND\":\n",
        "    qc.ccx(0, 1, 2)\n",
        "elif operation == \"OR\":\n",
        "    qc.x(2)\n",
        "    qc.ccx(0, 1, 2)\n",
        "    qc.x(2)\n",
        "qc.barrier()\n",
        "\n",
        "waveform(qc)\n",
        "print(\"\\n\")\n",
        "\n",
        "print(qc.draw())"
      ],
      "metadata": {
        "colab": {
          "base_uri": "https://localhost:8080/"
        },
        "id": "oj7d6k-cm72L",
        "outputId": "482f4aae-b5e3-4821-d8eb-b865b2fe93c3"
      },
      "execution_count": 55,
      "outputs": [
        {
          "output_type": "stream",
          "name": "stdout",
          "text": [
            "\n",
            "\n",
            "Statevector:\n",
            "|000>: (1+0j)\n",
            "\n",
            "\n",
            "Statevector:\n",
            "|001>: (1+0j)\n",
            "\n",
            "\n",
            "     ┌───┐      ░ \n",
            "q_0: ┤ X ├──■───░─\n",
            "     └───┘  │   ░ \n",
            "q_1: ───────■───░─\n",
            "          ┌─┴─┐ ░ \n",
            "q_2: ─────┤ X ├─░─\n",
            "          └───┘ ░ \n"
          ]
        }
      ]
    },
    {
      "cell_type": "markdown",
      "source": [
        "###Q7 Your code should take the value of x as input from the user. You then need to apply the NOT gate (specifically using the Fredkin gate only) and extract the result from the statevector and output ¬x to the user. Show the circuit diagram with approporiately placed barriers."
      ],
      "metadata": {
        "id": "vSg0RxqVTOWZ"
      }
    },
    {
      "cell_type": "code",
      "source": [
        "#x = int(input(\"Enter value of x (0 or 1): \"))\n",
        "x=1\n",
        "qc = QuantumCircuit(3)\n",
        "\n",
        "print(\"\\n\")\n",
        "waveform(qc)\n",
        "print(\"\\n\")\n",
        "\n",
        "qc.x(1)\n",
        "if x == 1:\n",
        "    qc.x(0)\n",
        "qc.cswap(0, 1, 2)\n",
        "qc.barrier()\n",
        "\n",
        "waveform(qc)\n",
        "print(\"\\n\")\n",
        "\n",
        "print(qc.draw())"
      ],
      "metadata": {
        "colab": {
          "base_uri": "https://localhost:8080/"
        },
        "id": "ufYm3GF8nZS6",
        "outputId": "587f6ec3-9f5a-4158-9c8e-077ee4ac3e69"
      },
      "execution_count": 56,
      "outputs": [
        {
          "output_type": "stream",
          "name": "stdout",
          "text": [
            "\n",
            "\n",
            "Statevector:\n",
            "|000>: (1+0j)\n",
            "\n",
            "\n",
            "Statevector:\n",
            "|101>: (1+0j)\n",
            "\n",
            "\n",
            "     ┌───┐    ░ \n",
            "q_0: ┤ X ├─■──░─\n",
            "     ├───┤ │  ░ \n",
            "q_1: ┤ X ├─X──░─\n",
            "     └───┘ │  ░ \n",
            "q_2: ──────X──░─\n",
            "              ░ \n"
          ]
        }
      ]
    },
    {
      "cell_type": "markdown",
      "source": [
        "###Q8 Your code should take two inputs from the user, the value of x and the value of y. You then need to apply the AND gate using the Fredkin gate and then extract the result from the statevector and report x ∧ y as output to the user. Show the circuit diagram with appropriately placed barriers."
      ],
      "metadata": {
        "id": "FpcpGAxgTYYq"
      }
    },
    {
      "cell_type": "code",
      "source": [
        "# x = int(input(\"Enter value of x (0 or 1): \"))\n",
        "# y = int(input(\"Enter value of y (0 or 1): \"))\n",
        "x=1\n",
        "y=0\n",
        "qc8 = QuantumCircuit(3)\n",
        "if x == 1:\n",
        "    qc8.x(0)\n",
        "if y == 1:\n",
        "    qc8.x(1)\n",
        "qc8.cswap(0, 1, 2)\n",
        "qc8.barrier()\n",
        "print(qc8.draw())"
      ],
      "metadata": {
        "colab": {
          "base_uri": "https://localhost:8080/"
        },
        "id": "RlnKY2MbnpCh",
        "outputId": "074d82e0-c7ca-449d-b4ac-486e73f31bdc"
      },
      "execution_count": 57,
      "outputs": [
        {
          "output_type": "stream",
          "name": "stdout",
          "text": [
            "     ┌───┐    ░ \n",
            "q_0: ┤ X ├─■──░─\n",
            "     └───┘ │  ░ \n",
            "q_1: ──────X──░─\n",
            "           │  ░ \n",
            "q_2: ──────X──░─\n",
            "              ░ \n"
          ]
        }
      ]
    },
    {
      "cell_type": "markdown",
      "source": [
        "##Lab 5 (10/02/2025)"
      ],
      "metadata": {
        "id": "yOoBTt9PGLxz"
      }
    },
    {
      "cell_type": "markdown",
      "source": [
        "###Q1  In order to implement the Superdense Coding Protocol, you need to first create a  2-qubit system and bring them to the uniform entangled state. Once this is done, you  need to define two functions, one each for Alice and Bob. These functions will perform  the operations that Alice and Bob do in the protocol.  Since Alice only has access to the first qubit, you need to ensure that your Alice  function can only access the first qubit. To simulate this, you must only pass the  following things as arguments to the Alice function: the full quantum circuit, and the  first qubit of the quantum register.  Since Alice sends her qubit to Bob, you can simulate it by returning both the quantum  circuit and the first qubit of the register from the Alice function and then the Bob  function can take as arguments all three things, i.e. the full quantum circuit, first qubit  of the register and the second qubit of the register.  Now the Bob function can perform all the necessary operations. You can now show that  the final statevector of Bob’s two qubits has the value of ab, the classical bits that Alice  wanted to send. Show the statevector (using your custom function) after each step to  clearly depict how the protocol works.\n",
        "\n",
        "![image.png](data:image/png;base64,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)"
      ],
      "metadata": {
        "id": "lFXt1fVkGZvb"
      }
    },
    {
      "cell_type": "code",
      "source": [
        "def alice(qc, q) :\n",
        "    # a = int(input(\"Enter the value of a: \"))\n",
        "    # b = int(input(\"Enter the value of b: \"))\n",
        "    a=1\n",
        "    b=0\n",
        "    if a == 1:\n",
        "        qc.z(q)\n",
        "        qc.barrier()\n",
        "\n",
        "    if b == 1:\n",
        "        qc.x(q)\n",
        "        qc.barrier()\n",
        "    return qc\n",
        "\n",
        "def bob(qc, q) :\n",
        "    qc.barrier()\n",
        "    qc.cx(q[0], q[1])\n",
        "    qc.barrier()\n",
        "    qc.h(q[0])\n",
        "    qc.barrier()\n",
        "    return qc\n",
        "\n",
        "q = QuantumRegister(2)\n",
        "c = ClassicalRegister(2)\n",
        "qc = QuantumCircuit(q, c)\n",
        "\n",
        "qc.h(q[0])\n",
        "qc.barrier()\n",
        "qc.cx(q[0], q[1])\n",
        "qc.barrier()\n",
        "\n",
        "qc = alice(qc, q[0])\n",
        "qc = bob(qc, q)\n",
        "\n",
        "print(\"\\n\")\n",
        "print(\"final statevector\")\n",
        "waveform(qc)\n",
        "print(\"\\n\")\n",
        "\n",
        "qc.measure(q, c)\n",
        "backend = AerSimulator()\n",
        "new_circuit = transpile(qc, backend)\n",
        "result = backend.run(new_circuit, shots = 2048).result()\n",
        "counts = result.get_counts(new_circuit)\n",
        "\n",
        "print(qc.draw())\n",
        "print(\"Measurement counts:\", counts)"
      ],
      "metadata": {
        "id": "NS-HWXM5Go28",
        "colab": {
          "base_uri": "https://localhost:8080/"
        },
        "outputId": "2de5bf14-8c19-4987-f1ac-f1e3d7025390"
      },
      "execution_count": 58,
      "outputs": [
        {
          "output_type": "stream",
          "name": "stdout",
          "text": [
            "\n",
            "\n",
            "final statevector\n",
            "Statevector:\n",
            "|00>: (-2.2371143170757382e-17+0j)\n",
            "|01>: (0.9999999999999998+0j)\n",
            "\n",
            "\n",
            "       ┌───┐ ░       ░ ┌───┐ ░  ░       ░ ┌───┐ ░ ┌─┐   \n",
            "q36_0: ┤ H ├─░───■───░─┤ Z ├─░──░───■───░─┤ H ├─░─┤M├───\n",
            "       └───┘ ░ ┌─┴─┐ ░ └───┘ ░  ░ ┌─┴─┐ ░ └───┘ ░ └╥┘┌─┐\n",
            "q36_1: ──────░─┤ X ├─░───────░──░─┤ X ├─░───────░──╫─┤M├\n",
            "             ░ └───┘ ░       ░  ░ └───┘ ░       ░  ║ └╥┘\n",
            "c35: 2/════════════════════════════════════════════╩══╩═\n",
            "                                                   0  1 \n",
            "Measurement counts: {'01': 2048}\n"
          ]
        }
      ]
    },
    {
      "cell_type": "markdown",
      "source": [
        "###Q2  Implement Superdense Coding Protocol with a small twist. Figure out a way to make  some changes to Alice’s side of the protocol (you are not allowed to make any changes  to Bob’s side of the protocol, since that leads to a trivial solution) such that the final  state that Bob is left with is ba rather than ab , i.e. the positions of b and a should  be flipped after Bob performs all his operations on his qubits."
      ],
      "metadata": {
        "id": "WJolJEIlKP62"
      }
    },
    {
      "cell_type": "code",
      "source": [
        "def alice(qc, q) :\n",
        "    # a = int(input(\"Enter the value of a: \"))\n",
        "    # b = int(input(\"Enter the value of b: \"))\n",
        "    a=1\n",
        "    b=0\n",
        "    if a == 1:\n",
        "        qc.z(q)\n",
        "        qc.barrier()\n",
        "\n",
        "    if b == 1:\n",
        "        qc.x(q)\n",
        "        qc.barrier()\n",
        "\n",
        "    if a ^ b == 1:\n",
        "        qc.x(q)\n",
        "        qc.z(q)\n",
        "        qc.barrier()\n",
        "\n",
        "    return qc\n",
        "\n",
        "def bob(qc, q) :\n",
        "    qc.barrier()\n",
        "    qc.cx(q[0], q[1])\n",
        "    qc.barrier()\n",
        "    qc.h(q[0])\n",
        "    qc.barrier()\n",
        "\n",
        "    return qc\n",
        "\n",
        "\n",
        "q = QuantumRegister(2)\n",
        "c = ClassicalRegister(2)\n",
        "qc = QuantumCircuit(q, c)\n",
        "\n",
        "qc.h(q[0])\n",
        "qc.barrier()\n",
        "qc.cx(q[0], q[1])\n",
        "qc.barrier()\n",
        "\n",
        "qc = alice(qc, q[0])\n",
        "qc = bob(qc, q)\n",
        "\n",
        "print(\"\\n\")\n",
        "print(\"final statevector\")\n",
        "waveform(qc)\n",
        "print(\"\\n\")\n",
        "\n",
        "qc.measure(q, c)\n",
        "backend = AerSimulator()\n",
        "new_circuit = transpile(qc, backend)\n",
        "result = backend.run(new_circuit, shots = 2048).result()\n",
        "counts = result.get_counts(new_circuit)\n",
        "print(qc.draw())\n",
        "\n",
        "print(\"Measurement counts:\", counts)"
      ],
      "metadata": {
        "colab": {
          "base_uri": "https://localhost:8080/"
        },
        "id": "vrDS4xtoLcYo",
        "outputId": "f12a8778-c351-46a4-f8c6-71918ade0a5d"
      },
      "execution_count": 59,
      "outputs": [
        {
          "output_type": "stream",
          "name": "stdout",
          "text": [
            "\n",
            "\n",
            "final statevector\n",
            "Statevector:\n",
            "|10>: (-0.9999999999999998+0j)\n",
            "|11>: (2.2371143170757382e-17+0j)\n",
            "\n",
            "\n",
            "       ┌───┐ ░       ░ ┌───┐ ░ ┌───┐┌───┐ ░  ░       ░ ┌───┐ ░ ┌─┐   \n",
            "q37_0: ┤ H ├─░───■───░─┤ Z ├─░─┤ X ├┤ Z ├─░──░───■───░─┤ H ├─░─┤M├───\n",
            "       └───┘ ░ ┌─┴─┐ ░ └───┘ ░ └───┘└───┘ ░  ░ ┌─┴─┐ ░ └───┘ ░ └╥┘┌─┐\n",
            "q37_1: ──────░─┤ X ├─░───────░────────────░──░─┤ X ├─░───────░──╫─┤M├\n",
            "             ░ └───┘ ░       ░            ░  ░ └───┘ ░       ░  ║ └╥┘\n",
            "c36: 2/═════════════════════════════════════════════════════════╩══╩═\n",
            "                                                                0  1 \n",
            "Measurement counts: {'10': 2048}\n"
          ]
        }
      ]
    },
    {
      "cell_type": "markdown",
      "source": [
        "##Lab 6 (14/02/2025)"
      ],
      "metadata": {
        "id": "-_vrKCG8Wb3e"
      }
    },
    {
      "cell_type": "markdown",
      "source": [
        "###Q1 CCCNOT gate\n",
        "Using Toffoli gates, create a derived gate (CCCNOT gate) which has three\n",
        " control qubits, i.e. the target qubit should flip (NOT gate) only when all\n",
        " three control qubits are 1."
      ],
      "metadata": {
        "id": "0GIKc7LXWwnK"
      }
    },
    {
      "cell_type": "code",
      "source": [
        "q = QuantumRegister(5)\n",
        "c = ClassicalRegister(5)\n",
        "qc = QuantumCircuit(q, c)\n",
        "\n",
        "def cccnot():\n",
        "    x = int(input(\"Enter First control bit: \"))\n",
        "    y = int(input(\"Enter Second control bit: \"))\n",
        "    z    = int(input(\"Enter Third control bit: \"))\n",
        "\n",
        "    if x == 1:\n",
        "        qc.x(q[0])\n",
        "\n",
        "    if y == 1:\n",
        "      qc.x(q[1])\n",
        "\n",
        "    if z == 1:\n",
        "      qc.x(q[3])\n",
        "\n",
        "\n",
        "    w = int(input(\"Enter Target bit: \"))\n",
        "    if w == 1:\n",
        "       qc.x(4)\n",
        "\n",
        "    qc.barrier()\n",
        "\n",
        "    qc.ccx(0, 1, 2)\n",
        "    qc.barrier()\n",
        "\n",
        "    qc.ccx(2, 3, 4)\n",
        "    qc.barrier()\n",
        "\n",
        "    qc.ccx(0, 1, 2)\n",
        "    qc.barrier()\n",
        "\n",
        "\n",
        "cccnot()\n",
        "qc.measure(q, c)\n",
        "print(\"\\nCircuit Diagram:\")\n",
        "print(qc.draw())"
      ],
      "metadata": {
        "colab": {
          "base_uri": "https://localhost:8080/"
        },
        "id": "FFmtg5waXuJB",
        "outputId": "eeac60f4-9de0-4c94-84cc-c56af6d7ddb5"
      },
      "execution_count": 60,
      "outputs": [
        {
          "output_type": "stream",
          "name": "stdout",
          "text": [
            "Enter First control bit: 1\n",
            "Enter Second control bit: 0\n",
            "Enter Third control bit: 1\n",
            "Enter Target bit: 1\n",
            "\n",
            "Circuit Diagram:\n",
            "       ┌───┐ ░       ░       ░       ░ ┌─┐            \n",
            "q38_0: ┤ X ├─░───■───░───────░───■───░─┤M├────────────\n",
            "       └───┘ ░   │   ░       ░   │   ░ └╥┘┌─┐         \n",
            "q38_1: ──────░───■───░───────░───■───░──╫─┤M├─────────\n",
            "             ░ ┌─┴─┐ ░       ░ ┌─┴─┐ ░  ║ └╥┘┌─┐      \n",
            "q38_2: ──────░─┤ X ├─░───■───░─┤ X ├─░──╫──╫─┤M├──────\n",
            "       ┌───┐ ░ └───┘ ░   │   ░ └───┘ ░  ║  ║ └╥┘┌─┐   \n",
            "q38_3: ┤ X ├─░───────░───■───░───────░──╫──╫──╫─┤M├───\n",
            "       ├───┤ ░       ░ ┌─┴─┐ ░       ░  ║  ║  ║ └╥┘┌─┐\n",
            "q38_4: ┤ X ├─░───────░─┤ X ├─░───────░──╫──╫──╫──╫─┤M├\n",
            "       └───┘ ░       ░ └───┘ ░       ░  ║  ║  ║  ║ └╥┘\n",
            "c37: 5/═════════════════════════════════╩══╩══╩══╩══╩═\n",
            "                                        0  1  2  3  4 \n"
          ]
        }
      ]
    },
    {
      "cell_type": "markdown",
      "source": [
        "###Partial Measurement\n",
        " In order to measure the state partially, you just need to pass the qubit and\n",
        " the corresponding classical bit to the measure function.If you want to\n",
        " measure more than one qubit, you can simply slice the quantum register\n",
        " with the starting and the ending index\n",
        "\n",
        " qc . measure(q[0] , c [0])\n",
        "\n",
        " #qc. measure(q[x:y] , c[x:y])\n",
        "\n",
        " qc . save_statevector ( ’ psi1 ’)\n",
        "\n",
        " result = AerSimulator (). run(qc ). result ()\n",
        "\n",
        " psi1 = result . data ()[ ’ psi1 ’]"
      ],
      "metadata": {
        "id": "UV3hCOjGXVLN"
      }
    },
    {
      "cell_type": "markdown",
      "source": [
        "###Q2  Create a 2-qubit system and apply Hadamard gate to both the qubits.  Now measure the first qubit only and print the measurement counts. Also  print the final statevector along with a brief explanation on how the  statevector collapses to the value you see"
      ],
      "metadata": {
        "id": "hMmhlwpGW3xH"
      }
    },
    {
      "cell_type": "code",
      "source": [
        "q = QuantumRegister(2)\n",
        "c = ClassicalRegister(2)\n",
        "qc = QuantumCircuit(q, c)\n",
        "\n",
        "qc.h(0)\n",
        "qc.h(1)\n",
        "qc.barrier()\n",
        "\n",
        "waveform(Statevector.from_instruction(qc))\n",
        "\n",
        "qc.measure(q[0], c[0])\n",
        "qc.save_statevector('psi1')\n",
        "backend = AerSimulator()\n",
        "new_circuit = transpile(qc, backend)\n",
        "result = backend.run(new_circuit, shots = 1024).result()\n",
        "counts = result.get_counts(new_circuit)\n",
        "print(\"\\nCircuit Diagram:\")\n",
        "print(qc.draw())\n",
        "psi1 = result.data()['psi1']\n",
        "waveform(psi1)\n",
        "print(\"\\nMeasurement counts:\", counts)"
      ],
      "metadata": {
        "colab": {
          "base_uri": "https://localhost:8080/"
        },
        "id": "gO_Fz3WcZwyz",
        "outputId": "cbeb64e0-83ee-49c7-fea9-062978ebceca"
      },
      "execution_count": 61,
      "outputs": [
        {
          "output_type": "stream",
          "name": "stdout",
          "text": [
            "Statevector:\n",
            "|00>: (0.4999999999999999+0j)\n",
            "|01>: (0.4999999999999999+0j)\n",
            "|10>: (0.4999999999999999+0j)\n",
            "|11>: (0.4999999999999999+0j)\n",
            "\n",
            "Circuit Diagram:\n",
            "       ┌───┐ ░ ┌─┐ psi1 \n",
            "q39_0: ┤ H ├─░─┤M├──░───\n",
            "       ├───┤ ░ └╥┘  ░   \n",
            "q39_1: ┤ H ├─░──╫───░───\n",
            "       └───┘ ░  ║   ░   \n",
            "c38: 2/═════════╩═══════\n",
            "                0       \n",
            "Statevector:\n",
            "|01>: (0.7071067811865476+0j)\n",
            "|11>: (0.7071067811865475+0j)\n",
            "\n",
            "Measurement counts: {'00': 511, '01': 513}\n"
          ]
        }
      ]
    },
    {
      "cell_type": "markdown",
      "source": [
        "###Q3  Create a 3-qubit system. Apply the NOT gate to the first qubit and the  Hadamard gate to the second qubit. Now measure the third qubit only and  print the measurement counts. Also print the final statevector along with  a brief explanation on how the statevector collapses to the value you see"
      ],
      "metadata": {
        "id": "0nO8Vd1SXEEZ"
      }
    },
    {
      "cell_type": "code",
      "source": [
        "q = QuantumRegister(3)\n",
        "c = ClassicalRegister(3)\n",
        "qc = QuantumCircuit(q, c)\n",
        "\n",
        "qc.x(0)\n",
        "qc.h(1)\n",
        "\n",
        "qc.barrier()\n",
        "\n",
        "waveform(Statevector.from_instruction(qc))\n",
        "\n",
        "qc.measure(q[2], c[2])\n",
        "qc.save_statevector('psi1')\n",
        "backend = AerSimulator()\n",
        "new_circuit = transpile(qc, backend)\n",
        "result = backend.run(new_circuit, shots = 1024).result()\n",
        "counts = result.get_counts(new_circuit)\n",
        "\n",
        "print(\"\\nCircuit Diagram:\")\n",
        "print(qc.draw())\n",
        "\n",
        "psi1 = result.data()['psi1']\n",
        "waveform(psi1)\n",
        "print(\"\\nMeasurement counts:\", counts)"
      ],
      "metadata": {
        "colab": {
          "base_uri": "https://localhost:8080/"
        },
        "id": "8PQqxU3FZ21q",
        "outputId": "ff151954-a706-4785-d1df-186774f07d97"
      },
      "execution_count": 62,
      "outputs": [
        {
          "output_type": "stream",
          "name": "stdout",
          "text": [
            "Statevector:\n",
            "|001>: (0.7071067811865475+0j)\n",
            "|011>: (0.7071067811865475+0j)\n",
            "\n",
            "Circuit Diagram:\n",
            "       ┌───┐ ░     psi1 \n",
            "q40_0: ┤ X ├─░──────░───\n",
            "       ├───┤ ░      ░   \n",
            "q40_1: ┤ H ├─░──────░───\n",
            "       └───┘ ░ ┌─┐  ░   \n",
            "q40_2: ──────░─┤M├──░───\n",
            "             ░ └╥┘  ░   \n",
            "c39: 3/═════════╩═══════\n",
            "                2       \n",
            "Statevector:\n",
            "|001>: (0.7071067811865476+0j)\n",
            "|011>: (0.7071067811865475+0j)\n",
            "\n",
            "Measurement counts: {'000': 1024}\n"
          ]
        }
      ]
    },
    {
      "cell_type": "markdown",
      "source": [
        "###Q4 Create a 3-qubit system and apply the Hadamard gate on the first qubit.  Now apply the Hadamard gate on the third qubit. FInally, apply the  CNOT gate with the first qubit as control and the second qubit as target.  Now measure the third qubit only and print the measurement counts. Also  print the final statevector along with a brief explanation on how the  statevector collapses to the value you see"
      ],
      "metadata": {
        "id": "ppQdQIuvXO_F"
      }
    },
    {
      "cell_type": "markdown",
      "source": [],
      "metadata": {
        "id": "KVDXooyCXBnN"
      }
    },
    {
      "cell_type": "code",
      "source": [
        "q = QuantumRegister(3)\n",
        "c = ClassicalRegister(3)\n",
        "qc = QuantumCircuit(q, c)\n",
        "\n",
        "qc.h(0)\n",
        "qc.h(2)\n",
        "qc.barrier()\n",
        "qc.cx(q[0], q[1])\n",
        "qc.barrier()\n",
        "\n",
        "waveform(Statevector.from_instruction(qc))\n",
        "\n",
        "qc.measure(q[2], c[2])\n",
        "qc.save_statevector('psi1')\n",
        "backend = AerSimulator()\n",
        "new_circuit = transpile(qc, backend)\n",
        "result = backend.run(new_circuit, shots = 1024).result()\n",
        "counts = result.get_counts(new_circuit)\n",
        "\n",
        "print(\"\\nCircuit Diagram:\")\n",
        "print(qc.draw())\n",
        "psi1 = result.data()['psi1']\n",
        "waveform(psi1)\n",
        "\n",
        "print(\"\\nMeasurement counts:\", counts)"
      ],
      "metadata": {
        "colab": {
          "base_uri": "https://localhost:8080/"
        },
        "id": "5PO4lLyzWoap",
        "outputId": "11538224-0b9c-4a05-ae9e-79ca94a2271e"
      },
      "execution_count": 63,
      "outputs": [
        {
          "output_type": "stream",
          "name": "stdout",
          "text": [
            "Statevector:\n",
            "|000>: (0.4999999999999999+0j)\n",
            "|011>: (0.4999999999999999+0j)\n",
            "|100>: (0.4999999999999999+0j)\n",
            "|111>: (0.4999999999999999+0j)\n",
            "\n",
            "Circuit Diagram:\n",
            "       ┌───┐ ░       ░     psi1 \n",
            "q41_0: ┤ H ├─░───■───░──────░───\n",
            "       └───┘ ░ ┌─┴─┐ ░      ░   \n",
            "q41_1: ──────░─┤ X ├─░──────░───\n",
            "       ┌───┐ ░ └───┘ ░ ┌─┐  ░   \n",
            "q41_2: ┤ H ├─░───────░─┤M├──░───\n",
            "       └───┘ ░       ░ └╥┘  ░   \n",
            "c40: 3/═════════════════╩═══════\n",
            "                        2       \n",
            "Statevector:\n",
            "|000>: (0.7071067811865476+0j)\n",
            "|011>: (0.7071067811865475+0j)\n",
            "\n",
            "Measurement counts: {'100': 508, '000': 516}\n"
          ]
        }
      ]
    }
  ]
}